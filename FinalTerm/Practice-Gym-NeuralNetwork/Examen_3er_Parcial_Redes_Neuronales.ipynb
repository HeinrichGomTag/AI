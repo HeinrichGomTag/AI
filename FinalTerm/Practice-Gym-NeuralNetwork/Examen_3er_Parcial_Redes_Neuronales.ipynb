{
 "cells": [
  {
   "cell_type": "markdown",
   "metadata": {
    "id": "m-t7TcPved01"
   },
   "source": [
    "# Este archivo es el código base para la parte práctica del examen del tercer parcial de la clase de Inteligencia Artificial\n",
    "\n",
    "## Instrucciones\n",
    "\n",
    "Por favor lea cuidadosamente y codifique lo que se le pida. Las instrucciones se verán de la siguiente manera:\n",
    "```\n",
    "***# Este ese el formato para las instrucciones***\n",
    "```\n",
    "\n",
    "## Entregables\n",
    "\n",
    "Se entrega individualmente un archivo comprimido en Zip que contenga:\n",
    "\n",
    "*   La libreta de Colab (extensión ipynb)\n",
    "*   Ls libreta de Colab en formato PDF; use la opción de imprimir para generarlo\n",
    "\n",
    "## Evaluación\n",
    "\n",
    "*   La celda requerida debe ejecutar sin errores: 1 pts\n",
    "*   La celda requerida implementa el código solicitado: 1pts\n",
    "\n",
    "## Código de ética profesional\n",
    "\n",
    "Al entregar este archivo con sus implementaciones, acepta que el trabajo realizado es de su autoría y que de confirmarse lo contrario se anulará su examen.\n",
    "\n",
    "Recuerde, el resultado de un trabajo por mérito propio siempre es satisfactorio"
   ]
  },
  {
   "cell_type": "markdown",
   "metadata": {
    "id": "lBLb1A1Rf21h"
   },
   "source": [
    "\n",
    "```\n",
    "Haga doble clic para editar la celda y llenar los datos correspondientes:\n",
    "```\n",
    "\n",
    "Nombre del estudiante: Enrique Ulises Báez Gómez Tagle\n",
    "\n",
    "Fecha de entrega: 31/05/2023\n",
    "\n",
    "\n"
   ]
  },
  {
   "cell_type": "code",
   "execution_count": 4,
   "metadata": {
    "id": "Nh-A0iu4LiGy",
    "ExecuteTime": {
     "end_time": "2023-06-01T17:35:12.897853Z",
     "start_time": "2023-06-01T17:35:12.877359Z"
    }
   },
   "outputs": [],
   "source": [
    "### import the libraries and modules required\n",
    "\n",
    "# libraries to manipulate the data and to visualise it\n",
    "import pandas as pd\n",
    "import numpy as np\n",
    "import matplotlib.pyplot as plt\n",
    "import seaborn as sn\n",
    "# this is the library that contains the NN capabilities\n",
    "import sklearn\n",
    "from sklearn.neural_network import MLPClassifier\n",
    "from sklearn.neural_network import MLPRegressor\n",
    "from sklearn.preprocessing import StandardScaler\n",
    "from sklearn.model_selection import train_test_split\n",
    "# the evaluation metrics for classification\n",
    "from sklearn.metrics import accuracy_score\n",
    "# for hyper parameter tuning\n",
    "from sklearn.model_selection import GridSearchCV\n",
    "# to meassure the execution time of the neural networks\n",
    "import time"
   ]
  },
  {
   "cell_type": "markdown",
   "metadata": {
    "id": "icBxLbYGTGsi"
   },
   "source": [
    "## Carga del conjunto de datos"
   ]
  },
  {
   "cell_type": "markdown",
   "metadata": {
    "id": "1xD88ZOxHpiX"
   },
   "source": [
    "`Cargue la base de datos gym-1sec.csv y muestre los primeros 5 registos:`"
   ]
  },
  {
   "cell_type": "code",
   "execution_count": 5,
   "metadata": {
    "colab": {
     "base_uri": "https://localhost:8080/",
     "height": 206
    },
    "executionInfo": {
     "elapsed": 349,
     "status": "ok",
     "timestamp": 1684897345430,
     "user": {
      "displayName": "Ari Yair Barrera Ánimas",
      "userId": "16237197247113400288"
     },
     "user_tz": 360
    },
    "id": "AmOBkSXPeL7Z",
    "outputId": "0d1a2abb-8b32-4f2b-bc98-19efe22e6f4c",
    "ExecuteTime": {
     "end_time": "2023-06-01T17:35:13.672751Z",
     "start_time": "2023-06-01T17:35:13.638732Z"
    }
   },
   "outputs": [
    {
     "name": "stdout",
     "output_type": "stream",
     "text": [
      "Dataset size 6 columns and 10125 rows\n"
     ]
    },
    {
     "data": {
      "text/plain": "                      date       pre     alt    hum    tem occ\n10120  2019-09-24 16:17:05  94960.91  543.86  56.44  28.61   M\n10121  2019-09-24 16:17:06  94958.60  544.06  56.48  28.61   M\n10122  2019-09-24 16:17:07  94958.60  544.06  56.72  28.63   M\n10123  2019-09-24 16:17:08  94961.06  543.85  56.99  28.64   M\n10124  2019-09-24 16:17:09  94958.84  544.04  56.96  28.65   M",
      "text/html": "<div>\n<style scoped>\n    .dataframe tbody tr th:only-of-type {\n        vertical-align: middle;\n    }\n\n    .dataframe tbody tr th {\n        vertical-align: top;\n    }\n\n    .dataframe thead th {\n        text-align: right;\n    }\n</style>\n<table border=\"1\" class=\"dataframe\">\n  <thead>\n    <tr style=\"text-align: right;\">\n      <th></th>\n      <th>date</th>\n      <th>pre</th>\n      <th>alt</th>\n      <th>hum</th>\n      <th>tem</th>\n      <th>occ</th>\n    </tr>\n  </thead>\n  <tbody>\n    <tr>\n      <th>10120</th>\n      <td>2019-09-24 16:17:05</td>\n      <td>94960.91</td>\n      <td>543.86</td>\n      <td>56.44</td>\n      <td>28.61</td>\n      <td>M</td>\n    </tr>\n    <tr>\n      <th>10121</th>\n      <td>2019-09-24 16:17:06</td>\n      <td>94958.60</td>\n      <td>544.06</td>\n      <td>56.48</td>\n      <td>28.61</td>\n      <td>M</td>\n    </tr>\n    <tr>\n      <th>10122</th>\n      <td>2019-09-24 16:17:07</td>\n      <td>94958.60</td>\n      <td>544.06</td>\n      <td>56.72</td>\n      <td>28.63</td>\n      <td>M</td>\n    </tr>\n    <tr>\n      <th>10123</th>\n      <td>2019-09-24 16:17:08</td>\n      <td>94961.06</td>\n      <td>543.85</td>\n      <td>56.99</td>\n      <td>28.64</td>\n      <td>M</td>\n    </tr>\n    <tr>\n      <th>10124</th>\n      <td>2019-09-24 16:17:09</td>\n      <td>94958.84</td>\n      <td>544.04</td>\n      <td>56.96</td>\n      <td>28.65</td>\n      <td>M</td>\n    </tr>\n  </tbody>\n</table>\n</div>"
     },
     "execution_count": 5,
     "metadata": {},
     "output_type": "execute_result"
    }
   ],
   "source": [
    "dataset = pd.read_csv(filepath_or_buffer='gym-1sec.csv', sep=',')\n",
    "\n",
    "print('Dataset size {} columns and {} rows'.format(dataset.shape[1], dataset.shape[0]))\n",
    "\n",
    "dataset.head()\n",
    "dataset.tail()"
   ]
  },
  {
   "cell_type": "markdown",
   "metadata": {
    "id": "GHiuUAikMBZV"
   },
   "source": [
    "```\n",
    "Visualice la cantidad de datos que hay en cada una de los differentes valores de la característica (feature) nivel de occupación.\n",
    "\n",
    "La descripción de las variables es como sigue de izquierda a derecha:\n",
    "\n",
    "*   Fecha de registro\n",
    "*   Presión barométrica en hecto-pascal\n",
    "*   Altura relativa desde el nivel del mar en metros\n",
    "*   Humedad relativa en porcentaje\n",
    "*   Temperatura en grados celcius\n",
    "*   Nivel de ocupación en etiquetas\n",
    "```\n",
    "\n"
   ]
  },
  {
   "cell_type": "code",
   "execution_count": 6,
   "metadata": {
    "id": "UOCaDd6LMB4y",
    "ExecuteTime": {
     "end_time": "2023-06-01T17:35:14.802401Z",
     "start_time": "2023-06-01T17:35:14.777711Z"
    }
   },
   "outputs": [
    {
     "data": {
      "text/plain": "occ\nH    2358\nL    2442\nM    5325\ndtype: int64"
     },
     "execution_count": 6,
     "metadata": {},
     "output_type": "execute_result"
    }
   ],
   "source": [
    "dataset.groupby('occ').size()"
   ]
  },
  {
   "cell_type": "markdown",
   "metadata": {
    "id": "Xx-FyOLnN7f2"
   },
   "source": [
    "```\n",
    "Utilice el análisis de los 5 números para visualizar la descripción del cconjunto de datos\n",
    "```\n",
    "\n"
   ]
  },
  {
   "cell_type": "code",
   "execution_count": 7,
   "metadata": {
    "id": "gwKSLykfN3eg",
    "ExecuteTime": {
     "end_time": "2023-06-01T17:35:15.945015Z",
     "start_time": "2023-06-01T17:35:15.919763Z"
    }
   },
   "outputs": [
    {
     "data": {
      "text/plain": "                pre           alt           hum           tem\ncount  10125.000000  10125.000000  10125.000000  10125.000000\nmean   95171.915784    525.373692     56.746984     27.808434\nstd      169.404796     14.839785      2.293076      0.820957\nmin    94893.870000    501.210000     50.660000     25.880000\n25%    95000.700000    509.410000     55.390000     27.210000\n50%    95230.360000    520.240000     56.400000     27.490000\n75%    95354.250000    540.370000     58.620000     28.510000\nmax    95447.960000    549.790000     65.390000     29.970000",
      "text/html": "<div>\n<style scoped>\n    .dataframe tbody tr th:only-of-type {\n        vertical-align: middle;\n    }\n\n    .dataframe tbody tr th {\n        vertical-align: top;\n    }\n\n    .dataframe thead th {\n        text-align: right;\n    }\n</style>\n<table border=\"1\" class=\"dataframe\">\n  <thead>\n    <tr style=\"text-align: right;\">\n      <th></th>\n      <th>pre</th>\n      <th>alt</th>\n      <th>hum</th>\n      <th>tem</th>\n    </tr>\n  </thead>\n  <tbody>\n    <tr>\n      <th>count</th>\n      <td>10125.000000</td>\n      <td>10125.000000</td>\n      <td>10125.000000</td>\n      <td>10125.000000</td>\n    </tr>\n    <tr>\n      <th>mean</th>\n      <td>95171.915784</td>\n      <td>525.373692</td>\n      <td>56.746984</td>\n      <td>27.808434</td>\n    </tr>\n    <tr>\n      <th>std</th>\n      <td>169.404796</td>\n      <td>14.839785</td>\n      <td>2.293076</td>\n      <td>0.820957</td>\n    </tr>\n    <tr>\n      <th>min</th>\n      <td>94893.870000</td>\n      <td>501.210000</td>\n      <td>50.660000</td>\n      <td>25.880000</td>\n    </tr>\n    <tr>\n      <th>25%</th>\n      <td>95000.700000</td>\n      <td>509.410000</td>\n      <td>55.390000</td>\n      <td>27.210000</td>\n    </tr>\n    <tr>\n      <th>50%</th>\n      <td>95230.360000</td>\n      <td>520.240000</td>\n      <td>56.400000</td>\n      <td>27.490000</td>\n    </tr>\n    <tr>\n      <th>75%</th>\n      <td>95354.250000</td>\n      <td>540.370000</td>\n      <td>58.620000</td>\n      <td>28.510000</td>\n    </tr>\n    <tr>\n      <th>max</th>\n      <td>95447.960000</td>\n      <td>549.790000</td>\n      <td>65.390000</td>\n      <td>29.970000</td>\n    </tr>\n  </tbody>\n</table>\n</div>"
     },
     "execution_count": 7,
     "metadata": {},
     "output_type": "execute_result"
    }
   ],
   "source": [
    "dataset.describe()"
   ]
  },
  {
   "cell_type": "markdown",
   "metadata": {
    "id": "NC_mHmInTVKp"
   },
   "source": [
    "## Visualización de los datos"
   ]
  },
  {
   "cell_type": "markdown",
   "metadata": {
    "id": "5EAHIG5oOU_K"
   },
   "source": [
    "```\n",
    "Modifique el siguiente código para visualizar la humedad del gymnasio de todos los niveles de ocupación (en el eje y) respecto a la altura (en el eje x)\n",
    "\n",
    "Nombre la gráfiica adecuadamente a los datos que se muestran\n",
    "```\n",
    "\n"
   ]
  },
  {
   "cell_type": "code",
   "execution_count": 8,
   "metadata": {
    "id": "tS4cmTj8OUGy",
    "ExecuteTime": {
     "end_time": "2023-06-01T17:35:18.543813Z",
     "start_time": "2023-06-01T17:35:18.323034Z"
    }
   },
   "outputs": [
    {
     "data": {
      "text/plain": "<Figure size 1000x500 with 1 Axes>",
      "image/png": "[encoded data removed]"
     },
     "metadata": {},
     "output_type": "display_data"
    }
   ],
   "source": [
    "y = dataset['hum']\n",
    "x = dataset['alt']\n",
    "\n",
    "fig, ax = plt.subplots()\n",
    "fig.set_size_inches(10, 5)\n",
    "\n",
    "ax.scatter(x, y, alpha=0.5)\n",
    "\n",
    "ax.set_xlabel('Altura')\n",
    "ax.set_ylabel('Humedad')\n",
    "ax.set_title('Humedad vs Altura')\n",
    "plt.show()\n"
   ]
  },
  {
   "cell_type": "markdown",
   "metadata": {
    "id": "5gkEkFc4TZ-N"
   },
   "source": [
    "## Generación del conjunto de datos de entrenamiento y testeo"
   ]
  },
  {
   "cell_type": "markdown",
   "metadata": {
    "id": "3jvbOJaiP4gb"
   },
   "source": [
    "```\n",
    "Genere los conjuntos de datos de entrenamiento y testeo de la siguiente manera:\n",
    "\n",
    "*   El conjunto de testeo debe ser el 5% aleatorio del conjunto de datos total\n",
    "*   Para el conjunto de entrenamiento, utilice todas las variables/características del conjunto de datos con excepción de:\n",
    " 'date','occ'\n",
    "*   Seleccione la varible de nivel de ocupación como la variable/característica de interés para hacer la clasificación\n",
    "```\n",
    "\n"
   ]
  },
  {
   "cell_type": "code",
   "execution_count": 9,
   "metadata": {
    "id": "1ZdnZvtrP4O_",
    "ExecuteTime": {
     "end_time": "2023-06-01T17:35:20.332583Z",
     "start_time": "2023-06-01T17:35:20.307433Z"
    }
   },
   "outputs": [
    {
     "name": "stdout",
     "output_type": "stream",
     "text": [
      "X shape: (10125, 4)\n",
      "Y shape: (10125,)\n"
     ]
    }
   ],
   "source": [
    "X = dataset.drop(['date', 'occ'], axis=1)\n",
    "Y = dataset['occ']\n",
    "\n",
    "# IF N, Convert to numpy array\n",
    "X = np.array(X)\n",
    "Y = np.array(Y)\n",
    "\n",
    "# VALIDATE SHAPES\n",
    "print('X shape: {}'.format(X.shape))\n",
    "print('Y shape: {}'.format(Y.shape))\n",
    "\n",
    "X_train, X_test, Y_train, Y_test = train_test_split(X, Y, test_size=0.05, random_state=42)"
   ]
  },
  {
   "cell_type": "markdown",
   "metadata": {
    "id": "-8moAmtMTg4B"
   },
   "source": [
    "## Escalamiento"
   ]
  },
  {
   "cell_type": "markdown",
   "metadata": {
    "id": "mOEQ3hB2Sd_i"
   },
   "source": [
    "```\n",
    "Si es necesario escalar los datos hágalo; en caso contrario, escribir no es necesario escalar los datos en la celda como comentario\n",
    "```\n",
    "\n"
   ]
  },
  {
   "cell_type": "code",
   "execution_count": 10,
   "metadata": {
    "id": "WN9gezDjScH2",
    "ExecuteTime": {
     "end_time": "2023-06-01T17:35:24.465531Z",
     "start_time": "2023-06-01T17:35:24.455484Z"
    }
   },
   "outputs": [
    {
     "name": "stdout",
     "output_type": "stream",
     "text": [
      "Min values of the dataset are: \n",
      "date    2019-09-18 19:04:00\n",
      "pre                94893.87\n",
      "alt                  501.21\n",
      "hum                   50.66\n",
      "tem                   25.88\n",
      "occ                       H\n",
      "dtype: object\n",
      "Max values of the dataset are: \n",
      "date    2019-10-02 20:48:58\n",
      "pre                95447.96\n",
      "alt                  549.79\n",
      "hum                   65.39\n",
      "tem                   29.97\n",
      "occ                       M\n",
      "dtype: object\n",
      "Min values of the dataset are: \n",
      "[-1.64809243 -1.629142   -2.64754226 -2.35274138]\n",
      "Max values of the dataset are: \n",
      "[1.63033299 1.65211843 3.76547249 2.63974148]\n",
      "Min values of the dataset are: \n",
      "-2.328328262015973\n",
      "Max values of the dataset are: \n",
      "3.0384029274199404\n"
     ]
    }
   ],
   "source": [
    "print('Min values of the dataset are: \\n{}'.format(dataset.min()))\n",
    "print('Max values of the dataset are: \\n{}'.format(dataset.max()))\n",
    "\n",
    "# Determine if the data needs to be scaled\n",
    "scaler = StandardScaler()\n",
    "scaler.fit(X_train)\n",
    "X_train_scaled = scaler.transform(X_train)\n",
    "X_test_scaled = scaler.transform(X_test)\n",
    "\n",
    "print('Min values of the dataset are: \\n{}'.format(X_train_scaled.min(axis=0)))\n",
    "print('Max values of the dataset are: \\n{}'.format(X_train_scaled.max(axis=0)))\n",
    "\n",
    "print('Min values of the dataset are: \\n{}'.format(X_test_scaled.min()))\n",
    "print('Max values of the dataset are: \\n{}'.format(X_test_scaled.max()))"
   ]
  },
  {
   "cell_type": "markdown",
   "metadata": {
    "id": "jQMB6lhUTlQ8"
   },
   "source": [
    "## Clasificación"
   ]
  },
  {
   "cell_type": "markdown",
   "metadata": {
    "id": "Nn9p2LZ0_yN2"
   },
   "source": [
    "### Definición del modelo"
   ]
  },
  {
   "cell_type": "markdown",
   "metadata": {
    "id": "JMS9ZzmbToV3"
   },
   "source": [
    "```\n",
    "Defina un modelo de red neuronal con las siguientes características:\n",
    "\n",
    "*   4 capas en total\n",
    "*   La capa de salida debe tener el mimso número de neuronas que tipos/clases de nivel de ocupación\n",
    "*   La capa de entrada debe tener el mismo número de neuroas que tipos/clases de nivel de ocupación\n",
    "*   Las capas intermedias debe tener +2 y +1 del número de neuronas de entrada menos el número de características/variables eliminadas del conjunto de entrenamiento\n",
    "*   Un máximo número de iteraciones del número de clases/tipos de nivel de ocupación multiplicado por 100\n",
    "*   Usar la función de activación tangente hyperbólica\n",
    "*   User el solucionador descenso de gradiente estocástico\n",
    "```\n",
    "\n"
   ]
  },
  {
   "cell_type": "code",
   "execution_count": 24,
   "metadata": {
    "id": "I6-LDaidS_xU",
    "ExecuteTime": {
     "end_time": "2023-05-30T21:29:57.592269Z",
     "start_time": "2023-05-30T21:29:57.423087Z"
    }
   },
   "outputs": [],
   "source": [
    "mlp_clf = MLPClassifier(hidden_layer_sizes=(Y_train.shape[0] + 2, Y_train.shape[0] + 1), activation='tanh',\n",
    "                        solver='sgd', max_iter=Y_train.shape[0] * 100, random_state=42)"
   ]
  },
  {
   "cell_type": "markdown",
   "metadata": {
    "id": "0zjg5d59WdW2"
   },
   "source": [
    "### Entrenamiento\n",
    "\n",
    "```\n",
    "Entrene el modelo definido con anterioridad y muestrer su tiempo de ejecución en segundos\n",
    "```\n",
    "**Importante:** esto puede tomar aproximadamente unos 5 minutos\n",
    "\n"
   ]
  },
  {
   "cell_type": "code",
   "execution_count": null,
   "metadata": {
    "colab": {
     "base_uri": "https://localhost:8080/"
    },
    "executionInfo": {
     "elapsed": 5618,
     "status": "ok",
     "timestamp": 1684897925344,
     "user": {
      "displayName": "Ari Yair Barrera Ánimas",
      "userId": "16237197247113400288"
     },
     "user_tz": 360
    },
    "id": "Cbr6burBWaKG",
    "outputId": "0a8775dd-932c-45fa-e2eb-7d14f9e5ef18",
    "is_executing": true,
    "ExecuteTime": {
     "start_time": "2023-05-30T21:29:57.451842Z"
    }
   },
   "outputs": [],
   "source": [
    "start_time = time.time()\n",
    "mlp_clf.fit(X_train_scaled, Y_train)\n",
    "end_time = time.time()\n",
    "\n",
    "print('Elapsed time: {} seconds'.format(end_time - start_time))"
   ]
  },
  {
   "cell_type": "markdown",
   "metadata": {
    "id": "9jOPyFNG_6wd"
   },
   "source": [
    "### Testeo y evaluación del modelo\n",
    "\n",
    "```\n",
    "Utilice el modelo entrenado para hacer la clasificación de los datos de testeo\n",
    "```\n",
    "\n"
   ]
  },
  {
   "cell_type": "code",
   "execution_count": null,
   "metadata": {
    "id": "cApLy6-qAQAu",
    "is_executing": true
   },
   "outputs": [],
   "source": [
    "from sklearn.metrics import classification_report\n",
    "\n",
    "y_pred = mlp_clf.predict(X_test_scaled)\n",
    "y_pred\n",
    "\n",
    "print(classification_report(Y_test, y_pred))\n"
   ]
  },
  {
   "cell_type": "markdown",
   "metadata": {
    "id": "3pZRFhkBAZwg"
   },
   "source": [
    "\n",
    "```\n",
    "Evalue el modelo de clasificación entrenado previamente para mostrar su accuracy\n",
    "```\n"
   ]
  },
  {
   "cell_type": "code",
   "execution_count": null,
   "metadata": {
    "colab": {
     "base_uri": "https://localhost:8080/"
    },
    "executionInfo": {
     "elapsed": 122,
     "status": "ok",
     "timestamp": 1684897976586,
     "user": {
      "displayName": "Ari Yair Barrera Ánimas",
      "userId": "16237197247113400288"
     },
     "user_tz": 360
    },
    "id": "CAY08IJwAZW3",
    "outputId": "41e62ce5-61c1-4452-e770-dd7aeda1c069",
    "is_executing": true
   },
   "outputs": [],
   "source": [
    "from sklearn.metrics import accuracy_score\n",
    "\n",
    "print('Accuracy: {}'.format(accuracy_score(Y_test, y_pred)))"
   ]
  },
  {
   "cell_type": "markdown",
   "metadata": {
    "id": "-YnPEV1bDwIA"
   },
   "source": [
    "\n",
    "```\n",
    "Visualice la curva de entrenamiento\n",
    "```\n",
    "\n"
   ]
  },
  {
   "cell_type": "code",
   "execution_count": null,
   "metadata": {
    "colab": {
     "base_uri": "https://localhost:8080/",
     "height": 473
    },
    "executionInfo": {
     "elapsed": 319,
     "status": "ok",
     "timestamp": 1684897979722,
     "user": {
      "displayName": "Ari Yair Barrera Ánimas",
      "userId": "16237197247113400288"
     },
     "user_tz": 360
    },
    "id": "6H_rU7mND5AZ",
    "outputId": "e35d9f1b-ed21-4ded-c55b-08af1c262415",
    "is_executing": true
   },
   "outputs": [],
   "source": [
    "plt.plot(mlp_clf.loss_curve_)\n",
    "plt.title('Loss Curve', fontsize=12)\n",
    "plt.xlabel('Iterations')\n",
    "plt.ylabel('Cost')\n",
    "plt.show()"
   ]
  },
  {
   "cell_type": "markdown",
   "metadata": {
    "id": "g1gGt5OvD_U9"
   },
   "source": [
    "\n",
    "```\n",
    "Visualice la matriz de confusión \n",
    "```\n",
    "\n"
   ]
  },
  {
   "cell_type": "code",
   "execution_count": null,
   "metadata": {
    "id": "WNV4ZluBD9cN",
    "is_executing": true
   },
   "outputs": [],
   "source": [
    "confusion_matrix = pd.crosstab(Y_test, y_pred, rownames=['Actual'], colnames=['Predicted'])\n",
    "sn.heatmap(confusion_matrix, annot=True)\n",
    "plt.show()"
   ]
  },
  {
   "cell_type": "markdown",
   "metadata": {
    "id": "ljw5usG7EM8-"
   },
   "source": [
    "\n",
    "```\n",
    "Con el valor del accuracy y las gráficas de entrenamiento y matriz de confusión explique brevemente el rendimiento del modelo de red neuronal entrenado\n",
    "```\n",
    "\n"
   ]
  },
  {
   "cell_type": "markdown",
   "metadata": {
    "id": "pBzu1z8zEn9V"
   },
   "source": [
    "**Doble clic aquí para editar su respuesta**"
   ]
  },
  {
   "cell_type": "markdown",
   "metadata": {
    "id": "ycaFgoVyE5OX"
   },
   "source": [
    "### Búsqueda de hiperparámetros a través de una matriz\n",
    "\n",
    "\n",
    "\n",
    "```\n",
    "Defina una matriz de búsqueda de hiperparámetros que contenga lo siguiente:\n",
    "\n",
    "*   Un modelo de red neuronal con el número de capas y neuronas que considere lleve a mejorar el aprendizaje en la tarea de clasificación\n",
    "*   El número de iteraciones que consideren sean pertinentes\n",
    "*   El optimizador adam\n",
    "*   La función de activación hyperbolic relu\n",
    "```\n",
    "\n"
   ]
  },
  {
   "cell_type": "code",
   "execution_count": null,
   "metadata": {
    "id": "XOBw2UPUEMo2",
    "is_executing": true
   },
   "outputs": [],
   "source": [
    "param_grid = {\n",
    "    'hidden_layer_sizes': [(Y_train.shape[0] + 2, Y_train.shape[0] + 1), (Y_train.shape[0] + 3, Y_train.shape[0] + 2),\n",
    "                           (Y_train.shape[0] + 4, Y_train.shape[0] + 3)],\n",
    "    'activation': ['tanh', 'relu'],\n",
    "    'solver': ['adam'],\n",
    "    'max_iter': [Y_train.shape[0] * 100, Y_train.shape[0] * 200, Y_train.shape[0] * 300]\n",
    "}"
   ]
  },
  {
   "cell_type": "markdown",
   "metadata": {
    "id": "mSskMXm7IGJA"
   },
   "source": [
    "\n",
    "```\n",
    "Defina la búsqueda de la matriz sin validación cruzada\n",
    "```\n",
    "\n"
   ]
  },
  {
   "cell_type": "code",
   "execution_count": null,
   "metadata": {
    "id": "sOtjIxvHIFfQ",
    "is_executing": true
   },
   "outputs": [],
   "source": [
    "grid = GridSearchCV(mlp_clf, param_grid, n_jobs=-1)"
   ]
  },
  {
   "cell_type": "markdown",
   "metadata": {
    "id": "9lADtMRbIWL3"
   },
   "source": [
    "\n",
    "```\n",
    "Execute la búsqueda de los hiperparámetros y muestre el tiempo total de execución\n",
    "```\n",
    "\n",
    "**Importante:** tenga en mente que esta sección puede tardar varios minutos, de acuerdo a los modelos incluídos en la búsqueda"
   ]
  },
  {
   "cell_type": "code",
   "execution_count": null,
   "metadata": {
    "colab": {
     "base_uri": "https://localhost:8080/"
    },
    "executionInfo": {
     "elapsed": 12631,
     "status": "ok",
     "timestamp": 1684898066996,
     "user": {
      "displayName": "Ari Yair Barrera Ánimas",
      "userId": "16237197247113400288"
     },
     "user_tz": 360
    },
    "id": "jNYHSuRXIfiY",
    "outputId": "5e32ee7f-9626-434c-e0f7-5904c221faa8",
    "is_executing": true
   },
   "outputs": [],
   "source": [
    "start_time = time.time()\n",
    "grid.fit(X_train_scaled, Y_train)\n",
    "end_time = time.time()\n",
    "\n",
    "print('Elapsed time: {} seconds'.format(end_time - start_time))"
   ]
  },
  {
   "cell_type": "markdown",
   "metadata": {
    "id": "cFXyTuWqf9CW"
   },
   "source": [
    "\n",
    "```\n",
    "Muestre el 'mejor modelo' de la búsqueda de los hiperparámetros\n",
    "```\n",
    "\n"
   ]
  },
  {
   "cell_type": "code",
   "execution_count": null,
   "metadata": {
    "id": "GM6XfvyQgL1m",
    "is_executing": true
   },
   "outputs": [],
   "source": [
    "print('The best hyper parameter values are:\\n{}'.format(grid.best_params_))\n",
    "grid_results = pd.DataFrame(grid.cv_results_)"
   ]
  },
  {
   "cell_type": "markdown",
   "metadata": {
    "id": "WxBCnJ2ugMM1"
   },
   "source": [
    "\n",
    "```\n",
    "Obtenga y muestre las predicciones con el mejor modelo de la búsqueda de hiperparámetros\n",
    "```\n",
    "\n"
   ]
  },
  {
   "cell_type": "code",
   "execution_count": null,
   "metadata": {
    "id": "tu4lsfAigWEm",
    "is_executing": true
   },
   "outputs": [],
   "source": [
    "grid_results.sort_values(by='rank_test_score', limit=1)\n",
    "\n",
    "print('RANK')\n",
    "grid_results.sort_values(by='rank_test_score')\n",
    "\n",
    "print('Best model predictions: {}'.format(grid.best_estimator_.predict(X_test_scaled)))\n"
   ]
  },
  {
   "cell_type": "markdown",
   "metadata": {
    "id": "8mTIkri9ig8H"
   },
   "source": [
    "\n",
    "```\n",
    "Evalue el mejor modelo de clasificación resultante de la búsqueda de hiperparámetros para mostrar su accuracy\n",
    "```\n",
    "\n"
   ]
  },
  {
   "cell_type": "code",
   "execution_count": null,
   "metadata": {
    "colab": {
     "base_uri": "https://localhost:8080/"
    },
    "executionInfo": {
     "elapsed": 924,
     "status": "ok",
     "timestamp": 1684898083025,
     "user": {
      "displayName": "Ari Yair Barrera Ánimas",
      "userId": "16237197247113400288"
     },
     "user_tz": 360
    },
    "id": "h0xsDSATizyH",
    "outputId": "60f87f7b-4041-4e40-97ff-6ccf09cfa859",
    "is_executing": true
   },
   "outputs": [],
   "source": [
    "best_model = MLPClassifier(hidden_layer_sizes=grid.best_params_['hidden_layer_sizes'],\n",
    "                           activation=grid.best_params_['activation'], solver=grid.best_params_['solver'],\n",
    "                           max_iter=grid.best_params_['max_iter'], random_state=42)\n",
    "best_model.fit(X_train_scaled, Y_train)\n",
    "\n",
    "y_pred = best_model.predict(X_test_scaled)\n",
    "print('Accuracy: {}'.format(accuracy_score(Y_test, y_pred)))"
   ]
  },
  {
   "cell_type": "markdown",
   "metadata": {
    "id": "3ZN_zG8xi-eh"
   },
   "source": [
    "```\n",
    "Visualice la matriz de confusión del mejor modelo de clasificación resultante de la búsqueda de hiperparámetros\n",
    "```\n",
    "\n"
   ]
  },
  {
   "cell_type": "code",
   "execution_count": null,
   "metadata": {
    "id": "H93spAu3j3ve",
    "is_executing": true
   },
   "outputs": [],
   "source": [
    "best_mode_confusion_matrix = pd.crosstab(Y_test, grid.best_estimator_.predict(X_test_scaled), rownames=['Actual'],\n",
    "                                         colnames=['Predicted'])\n",
    "sn.heatmap(best_mode_confusion_matrix, annot=True)\n",
    "plt.show()"
   ]
  },
  {
   "cell_type": "markdown",
   "metadata": {
    "id": "W6UKBXOzk-ou"
   },
   "source": [
    "## Conclusiones\n",
    "\n",
    "```\n",
    "De acuerdo a los resultados de las métricas de evaluación y a las gráficas de matriz de confusión, mencione qué modelo de red neuronal se desempeñó mejor y por qué considera que fue así\n",
    "```\n",
    "\n"
   ]
  },
  {
   "cell_type": "markdown",
   "metadata": {
    "id": "-OxizFH-leWm"
   },
   "source": [
    "**Doble clic aquí para editar su respuesta**\n",
    "\n"
   ]
  }
 ],
 "metadata": {
  "colab": {
   "authorship_tag": "ABX9TyMhoKoiKovUeF/5Gon5DBpa",
   "provenance": [
    {
     "file_id": "14cB_W8jcdctVzWtWIPgymO2RvTC9mSeL",
     "timestamp": 1684897252493
    }
   ]
  },
  "kernelspec": {
   "display_name": "Python 3 (ipykernel)",
   "language": "python",
   "name": "python3"
  },
  "language_info": {
   "codemirror_mode": {
    "name": "ipython",
    "version": 3
   },
   "file_extension": ".py",
   "mimetype": "text/x-python",
   "name": "python",
   "nbconvert_exporter": "python",
   "pygments_lexer": "ipython3",
   "version": "3.10.9"
  }
 },
 "nbformat": 4,
 "nbformat_minor": 1
}
