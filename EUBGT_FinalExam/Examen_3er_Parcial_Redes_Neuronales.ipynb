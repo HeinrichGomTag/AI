{
 "nbformat": 4,
 "nbformat_minor": 0,
 "metadata": {
  "colab": {
   "provenance": []
  },
  "kernelspec": {
   "name": "python3",
   "language": "python",
   "display_name": "Python 3 (ipykernel)"
  },
  "language_info": {
   "name": "python"
  }
 },
 "cells": [
  {
   "cell_type": "markdown",
   "source": [
    "# Este archivo es el código base para la parte práctica del examen del tercer parcial de la clase de Inteligencia Artificial\n",
    "\n",
    "## Instrucciones\n",
    "\n",
    "Por favor lea cuidadosamente y codifique lo que se le pida. Las instrucciones se verán de la siguiente manera:\n",
    "```\n",
    "***# Este ese el formato para las instrucciones***\n",
    "```\n",
    "\n",
    "## Entregables\n",
    "\n",
    "Se entrega individualmente un archivo comprimido en Zip que contenga:\n",
    "\n",
    "*   La libreta de Colab (extensión ipynb)\n",
    "*   LA libreta de Colab en formato PDF; use la opción de imprimir para generarlo\n",
    "\n",
    "## Evaluación\n",
    "\n",
    "*   La celda requerida debe ejecutar sin errores: 1 pts\n",
    "*   La celda requerida implementa el código solicitado: 1pts\n",
    "\n",
    "## Código de ética profesional\n",
    "\n",
    "Al entregar este archivo con sus implementaciones, acepta que el trabajo realizado es de su autoría y que de confirmarse lo contrario se anulará su examen."
   ],
   "metadata": {
    "id": "m-t7TcPved01"
   }
  },
  {
   "cell_type": "markdown",
   "source": [
    "\n",
    "```\n",
    "Haga doble clic para editar la celda y llenar los datos correspondientes:\n",
    "```\n",
    "\n",
    "Nombre del estudiante: Enrique Ulises Báez Gómez Tagle\n",
    "\n",
    "Fecha de entrega: 1/06/2023\n",
    "\n",
    "\n"
   ],
   "metadata": {
    "id": "lBLb1A1Rf21h"
   }
  },
  {
   "cell_type": "code",
   "source": [
    "### import the libraries and modules required\n",
    "\n",
    "# libraries to manipulate the data and to visualise it\n",
    "import pandas as pd\n",
    "import numpy as np\n",
    "import matplotlib.pyplot as plt\n",
    "import seaborn as sn\n",
    "# this is the library that contains the NN capabilities\n",
    "import sklearn\n",
    "from sklearn.neural_network import MLPClassifier\n",
    "from sklearn.neural_network import MLPRegressor\n",
    "from sklearn.preprocessing import StandardScaler\n",
    "from sklearn.model_selection import train_test_split\n",
    "# the evaluation metrics for regression\n",
    "from sklearn.metrics import mean_squared_error\n",
    "# for hyper parameter tuning\n",
    "from sklearn.model_selection import GridSearchCV\n",
    "# to meassure the execution time of the neural networks\n",
    "import time"
   ],
   "metadata": {
    "id": "Nh-A0iu4LiGy",
    "ExecuteTime": {
     "end_time": "2023-06-01T18:26:41.067407Z",
     "start_time": "2023-06-01T18:26:40.890784Z"
    }
   },
   "execution_count": 99,
   "outputs": []
  },
  {
   "cell_type": "markdown",
   "source": [
    "## Carga del conjunto de datos"
   ],
   "metadata": {
    "id": "icBxLbYGTGsi"
   }
  },
  {
   "cell_type": "markdown",
   "source": [
    "`Cargue la base de datos gym-1sec.csv y muestre los últimos 5 registos:`"
   ],
   "metadata": {
    "id": "1xD88ZOxHpiX"
   }
  },
  {
   "cell_type": "code",
   "execution_count": null,
   "metadata": {
    "colab": {
     "base_uri": "https://localhost:8080/",
     "height": 206
    },
    "id": "AmOBkSXPeL7Z",
    "outputId": "686c197c-dac1-48a0-ec5c-8d367b24240f",
    "is_executing": true
   },
   "outputs": [
    {
     "name": "stdout",
     "output_type": "stream",
     "text": [
      "Dataset size 6 columns and 10125 rows\n"
     ]
    },
    {
     "data": {
      "text/plain": "                      date       pre     alt    hum    tem occ\n10121  2019-09-24 16:17:05  94960.91  543.86  56.44  28.61   M\n10122  2019-09-24 16:17:06  94958.60  544.06  56.48  28.61   M\n10123  2019-09-24 16:17:07  94958.60  544.06  56.72  28.63   M\n10124  2019-09-24 16:17:08  94961.06  543.85  56.99  28.64   M\n10125  2019-09-24 16:17:09  94958.84  544.04  56.96  28.65   M",
      "text/html": "<div>\n<style scoped>\n    .dataframe tbody tr th:only-of-type {\n        vertical-align: middle;\n    }\n\n    .dataframe tbody tr th {\n        vertical-align: top;\n    }\n\n    .dataframe thead th {\n        text-align: right;\n    }\n</style>\n<table border=\"1\" class=\"dataframe\">\n  <thead>\n    <tr style=\"text-align: right;\">\n      <th></th>\n      <th>date</th>\n      <th>pre</th>\n      <th>alt</th>\n      <th>hum</th>\n      <th>tem</th>\n      <th>occ</th>\n    </tr>\n  </thead>\n  <tbody>\n    <tr>\n      <th>10121</th>\n      <td>2019-09-24 16:17:05</td>\n      <td>94960.91</td>\n      <td>543.86</td>\n      <td>56.44</td>\n      <td>28.61</td>\n      <td>M</td>\n    </tr>\n    <tr>\n      <th>10122</th>\n      <td>2019-09-24 16:17:06</td>\n      <td>94958.60</td>\n      <td>544.06</td>\n      <td>56.48</td>\n      <td>28.61</td>\n      <td>M</td>\n    </tr>\n    <tr>\n      <th>10123</th>\n      <td>2019-09-24 16:17:07</td>\n      <td>94958.60</td>\n      <td>544.06</td>\n      <td>56.72</td>\n      <td>28.63</td>\n      <td>M</td>\n    </tr>\n    <tr>\n      <th>10124</th>\n      <td>2019-09-24 16:17:08</td>\n      <td>94961.06</td>\n      <td>543.85</td>\n      <td>56.99</td>\n      <td>28.64</td>\n      <td>M</td>\n    </tr>\n    <tr>\n      <th>10125</th>\n      <td>2019-09-24 16:17:09</td>\n      <td>94958.84</td>\n      <td>544.04</td>\n      <td>56.96</td>\n      <td>28.65</td>\n      <td>M</td>\n    </tr>\n  </tbody>\n</table>\n</div>"
     },
     "execution_count": 100,
     "metadata": {},
     "output_type": "execute_result"
    }
   ],
   "source": [
    "# pd.read_csv()\n",
    "df = pd.read_csv(filepath_or_buffer='gym-1sec.csv', sep=',')\n",
    "df.index = np.arange(1, len(df) + 1)\n",
    "print('Dataset size {} columns and {} rows'.format(df.shape[1], df.shape[0]))\n",
    "df.tail()"
   ]
  },
  {
   "cell_type": "markdown",
   "source": [
    "```\n",
    "Visualice la cantidad de datos que hay en cada una de los differentes valores de la característica (feature) nivel de occupación.\n",
    "\n",
    "La descripción de las variables es como sigue de izquierda a derecha:\n",
    "\n",
    "*   Fecha de registro\n",
    "*   Presión barométrica en hecto-pascal\n",
    "*   Altura relativa desde el nivel del mar en metros\n",
    "*   Humedad relativa en porcentaje\n",
    "*   Temperatura en grados celcius\n",
    "*   Nivel de ocupación en etiquetas\n",
    "```\n",
    "\n"
   ],
   "metadata": {
    "id": "GHiuUAikMBZV"
   }
  },
  {
   "cell_type": "code",
   "source": [
    "# <mi conjunto de datos>.groupby('mi variable de interés').size()\n",
    "df.groupby('occ').size()"
   ],
   "metadata": {
    "id": "UOCaDd6LMB4y",
    "ExecuteTime": {
     "end_time": "2023-06-01T18:26:41.159075Z",
     "start_time": "2023-06-01T18:26:40.925732Z"
    }
   },
   "execution_count": 101,
   "outputs": [
    {
     "data": {
      "text/plain": "occ\nH    2358\nL    2442\nM    5325\ndtype: int64"
     },
     "execution_count": 101,
     "metadata": {},
     "output_type": "execute_result"
    }
   ]
  },
  {
   "cell_type": "markdown",
   "source": [
    "```\n",
    "Utilice el análisis de los 5 números para visualizar la descripción del cconjunto de datos\n",
    "```\n",
    "\n"
   ],
   "metadata": {
    "id": "Xx-FyOLnN7f2"
   }
  },
  {
   "cell_type": "code",
   "source": [
    "# .describe()\n",
    "df.describe()"
   ],
   "metadata": {
    "colab": {
     "base_uri": "https://localhost:8080/",
     "height": 300
    },
    "id": "gwKSLykfN3eg",
    "outputId": "60794cdf-c14d-4b86-cbab-f3a8eab227cf",
    "ExecuteTime": {
     "end_time": "2023-06-01T18:26:41.160132Z",
     "start_time": "2023-06-01T18:26:40.932011Z"
    }
   },
   "execution_count": 102,
   "outputs": [
    {
     "data": {
      "text/plain": "                pre           alt           hum           tem\ncount  10125.000000  10125.000000  10125.000000  10125.000000\nmean   95171.915784    525.373692     56.746984     27.808434\nstd      169.404796     14.839785      2.293076      0.820957\nmin    94893.870000    501.210000     50.660000     25.880000\n25%    95000.700000    509.410000     55.390000     27.210000\n50%    95230.360000    520.240000     56.400000     27.490000\n75%    95354.250000    540.370000     58.620000     28.510000\nmax    95447.960000    549.790000     65.390000     29.970000",
      "text/html": "<div>\n<style scoped>\n    .dataframe tbody tr th:only-of-type {\n        vertical-align: middle;\n    }\n\n    .dataframe tbody tr th {\n        vertical-align: top;\n    }\n\n    .dataframe thead th {\n        text-align: right;\n    }\n</style>\n<table border=\"1\" class=\"dataframe\">\n  <thead>\n    <tr style=\"text-align: right;\">\n      <th></th>\n      <th>pre</th>\n      <th>alt</th>\n      <th>hum</th>\n      <th>tem</th>\n    </tr>\n  </thead>\n  <tbody>\n    <tr>\n      <th>count</th>\n      <td>10125.000000</td>\n      <td>10125.000000</td>\n      <td>10125.000000</td>\n      <td>10125.000000</td>\n    </tr>\n    <tr>\n      <th>mean</th>\n      <td>95171.915784</td>\n      <td>525.373692</td>\n      <td>56.746984</td>\n      <td>27.808434</td>\n    </tr>\n    <tr>\n      <th>std</th>\n      <td>169.404796</td>\n      <td>14.839785</td>\n      <td>2.293076</td>\n      <td>0.820957</td>\n    </tr>\n    <tr>\n      <th>min</th>\n      <td>94893.870000</td>\n      <td>501.210000</td>\n      <td>50.660000</td>\n      <td>25.880000</td>\n    </tr>\n    <tr>\n      <th>25%</th>\n      <td>95000.700000</td>\n      <td>509.410000</td>\n      <td>55.390000</td>\n      <td>27.210000</td>\n    </tr>\n    <tr>\n      <th>50%</th>\n      <td>95230.360000</td>\n      <td>520.240000</td>\n      <td>56.400000</td>\n      <td>27.490000</td>\n    </tr>\n    <tr>\n      <th>75%</th>\n      <td>95354.250000</td>\n      <td>540.370000</td>\n      <td>58.620000</td>\n      <td>28.510000</td>\n    </tr>\n    <tr>\n      <th>max</th>\n      <td>95447.960000</td>\n      <td>549.790000</td>\n      <td>65.390000</td>\n      <td>29.970000</td>\n    </tr>\n  </tbody>\n</table>\n</div>"
     },
     "execution_count": 102,
     "metadata": {},
     "output_type": "execute_result"
    }
   ]
  },
  {
   "cell_type": "markdown",
   "source": [
    "## Visualización de los datos"
   ],
   "metadata": {
    "id": "NC_mHmInTVKp"
   }
  },
  {
   "cell_type": "markdown",
   "source": [
    "```\n",
    "Modifique el siguiente código para visualizar la temperatura de la sala de todos los niveles de ocupación (en el eje y) respecto a la altura (en el eje x)\n",
    "\n",
    "Nombre la gráfiica adecuadamente a los datos que se muestran\n",
    "```\n",
    "\n"
   ],
   "metadata": {
    "id": "5EAHIG5oOU_K"
   }
  },
  {
   "cell_type": "code",
   "source": [
    "# l = <mi conjunto de datos>[<mi conjunto de datos>.<variable de nivel de ocupación> == \"valor de la variable de ocupación\"]\n",
    "# EN LUGAR DE NIVEL DE OCUPACION SI ES TEMPERATURA EN Y\n",
    "y = df['tem']\n",
    "x = df['alt']\n",
    "\n",
    "fig, ax = plt.subplots()\n",
    "fig.set_size_inches(13, 7)\n",
    "\n",
    "# ax.scatter(l['variable en el eje x'], l['variable en el eje y'], label=\"etiqueta de los valores\", facecolor=\"blue\")\n",
    "ax.scatter(x, y, label=\"Temperatura\", facecolor=\"blue\")\n",
    "\n",
    "ax.set_xlabel(\"Altura\")\n",
    "ax.set_ylabel(\"Temperatura\")\n",
    "ax.grid()\n",
    "# ax.set_title(\"Un título que corresponda con mi gráfica\")\n",
    "ax.set_title(\"Altura vs Temperatura\")\n",
    "ax.legend()\n",
    "\n",
    "plt.show()"
   ],
   "metadata": {
    "colab": {
     "base_uri": "https://localhost:8080/",
     "height": 602
    },
    "id": "tS4cmTj8OUGy",
    "outputId": "1c7d2d7e-1a33-4aa5-9c4f-cd881d216561",
    "ExecuteTime": {
     "end_time": "2023-06-01T18:26:41.180469Z",
     "start_time": "2023-06-01T18:26:40.948818Z"
    }
   },
   "execution_count": 103,
   "outputs": [
    {
     "data": {
      "text/plain": "<Figure size 1300x700 with 1 Axes>",
      "image/png": "[encoded data removed]"
     },
     "metadata": {},
     "output_type": "display_data"
    }
   ]
  },
  {
   "cell_type": "markdown",
   "source": [
    "## Generación del conjunto de datos de entrenamiento y testeo"
   ],
   "metadata": {
    "id": "5gkEkFc4TZ-N"
   }
  },
  {
   "cell_type": "markdown",
   "source": [
    "```\n",
    "Utilice la siguiente función para hacer la codificación a formato numérico de los diferentes valores de la variable de interés\n",
    "```\n",
    "\n"
   ],
   "metadata": {
    "id": "ykyHUPHbBLbQ"
   }
  },
  {
   "cell_type": "code",
   "source": [
    "def coder(feature):\n",
    "    if feature == 'L':\n",
    "        return 0\n",
    "    elif feature == 'M':\n",
    "        return 1\n",
    "    else:\n",
    "        return 2\n",
    "\n",
    "# <mi conjunto de datos>['variable de interés'] = <mi conjunto de datos>['variable de interés'].apply(coder)\n",
    "df['occ'] = df['occ'].apply(coder)"
   ],
   "metadata": {
    "id": "DAW8q5SuBKd4",
    "ExecuteTime": {
     "end_time": "2023-06-01T18:26:41.180720Z",
     "start_time": "2023-06-01T18:26:41.099663Z"
    }
   },
   "execution_count": 104,
   "outputs": []
  },
  {
   "cell_type": "markdown",
   "source": [
    "```\n",
    "Genere los conjuntos de datos de entrenamiento y testeo de la siguiente manera:\n",
    "\n",
    "*   El conjunto de testeo debe ser el 5% aleatorio del conjunto de datos total\n",
    "*   Para el conjunto de entrenamiento, utilice todas las variables/características del conjunto de datos con excepción de:\n",
    " 'date' y 'occ'\n",
    "*   Seleccione la varible de nivel de ocupación como la variable/característica de interés para hacer la regresion\n",
    "```\n",
    "\n"
   ],
   "metadata": {
    "id": "3jvbOJaiP4gb"
   }
  },
  {
   "cell_type": "code",
   "source": [
    "# X will be our dataset without the feature of interest\n",
    "# X = <mi conjunto de datos>.drop(['mis variables que no son de interés'], axis=1)\n",
    "X = df.drop(['date', 'occ'], axis=1)\n",
    "\n",
    "# converting into numpy array and # FIXME: assigning petal length and petal width (not about flowers)\n",
    "X = np.array(X)\n",
    "\n",
    "# y will be our dataset with the feature of interest\n",
    "# y = <mi conjunto de datos>['mi variable de interés']\n",
    "Y = df['occ']\n",
    "\n",
    "# VALIDATE SHAPES\n",
    "print('X shape: {}'.format(X.shape))\n",
    "print('Y shape: {}'.format(Y.shape))\n",
    "\n",
    "# Splitting into train and test\n",
    "# <mis subconjuntos de entrenamiento y testeo> = train_test_split(X,y,test_size=0.5,random_state=42)\n",
    "X_train, X_test, Y_train, Y_test = train_test_split(X, Y, test_size=0.05, random_state=42)"
   ],
   "metadata": {
    "id": "1ZdnZvtrP4O_",
    "ExecuteTime": {
     "end_time": "2023-06-01T18:26:41.180942Z",
     "start_time": "2023-06-01T18:26:41.107891Z"
    }
   },
   "execution_count": 105,
   "outputs": [
    {
     "name": "stdout",
     "output_type": "stream",
     "text": [
      "X shape: (10125, 4)\n",
      "Y shape: (10125,)\n"
     ]
    }
   ]
  },
  {
   "cell_type": "markdown",
   "source": [
    "## Escalamiento"
   ],
   "metadata": {
    "id": "-8moAmtMTg4B"
   }
  },
  {
   "cell_type": "markdown",
   "source": [
    "```\n",
    "Si es necesario escalar los datos hágalo; en caso contrario, escribir no es necesario escalar los datos en la celda como comentario\n",
    "```\n",
    "\n"
   ],
   "metadata": {
    "id": "mOEQ3hB2Sd_i"
   }
  },
  {
   "cell_type": "code",
   "source": [
    "print('Min values of the dataset are: \\n{}'.format(df.min()))\n",
    "print('Max values of the dataset are: \\n{}'.format(df.max()))\n",
    "\n",
    "# Determine if the data needs to be scaled\n",
    "scaler = StandardScaler()\n",
    "scaler.fit(X_train)\n",
    "X_train_scaled = scaler.transform(X_train)\n",
    "X_test_scaled = scaler.transform(X_test)\n",
    "\n",
    "print('Min values of the dataset are: \\n{}'.format(X_train_scaled.min(axis=0)))\n",
    "print('Max values of the dataset are: \\n{}'.format(X_train_scaled.max(axis=0)))\n",
    "\n",
    "print('Min values of the dataset are: \\n{}'.format(X_test_scaled.min()))\n",
    "print('Max values of the dataset are: \\n{}'.format(X_test_scaled.max()))"
   ],
   "metadata": {
    "id": "WN9gezDjScH2",
    "ExecuteTime": {
     "end_time": "2023-06-01T18:26:41.181072Z",
     "start_time": "2023-06-01T18:26:41.115771Z"
    }
   },
   "execution_count": 106,
   "outputs": [
    {
     "name": "stdout",
     "output_type": "stream",
     "text": [
      "Min values of the dataset are: \n",
      "date    2019-09-18 19:04:00\n",
      "pre                94893.87\n",
      "alt                  501.21\n",
      "hum                   50.66\n",
      "tem                   25.88\n",
      "occ                       0\n",
      "dtype: object\n",
      "Max values of the dataset are: \n",
      "date    2019-10-02 20:48:58\n",
      "pre                95447.96\n",
      "alt                  549.79\n",
      "hum                   65.39\n",
      "tem                   29.97\n",
      "occ                       2\n",
      "dtype: object\n",
      "Min values of the dataset are: \n",
      "[-1.64809243 -1.629142   -2.64754226 -2.35274138]\n",
      "Max values of the dataset are: \n",
      "[1.63033299 1.65211843 3.76547249 2.63974148]\n",
      "Min values of the dataset are: \n",
      "-2.328328262015973\n",
      "Max values of the dataset are: \n",
      "3.0384029274199404\n"
     ]
    }
   ]
  },
  {
   "cell_type": "markdown",
   "source": [
    "## Regresion"
   ],
   "metadata": {
    "id": "jQMB6lhUTlQ8"
   }
  },
  {
   "cell_type": "markdown",
   "source": [
    "### Definición del modelo"
   ],
   "metadata": {
    "id": "Nn9p2LZ0_yN2"
   }
  },
  {
   "cell_type": "markdown",
   "source": [
    "```\n",
    "Defina un modelo de red neuronal con las siguientes características:\n",
    "\n",
    "*   4 capas en total\n",
    "*   La capa de salida debe tener el mimso número de neuronas que el número de resultados esperados por cada renglón/predicción\n",
    "*   La capa de entrada debe tener el mismo número de neuroas que el número de niveles de ocupacón\n",
    "*   La primer capa intermedia debe tener el número de neuronas igual al número de características/variables del conjunto de datos de entrenamiento\n",
    "*   La segunda capa intermedia debe tener la mitad de neuronas que la capa anterior\n",
    "*   Un máximo número de iteraciones del número de clases/tipos de nivel de ocupación multiplicado por 100\n",
    "*   Usar la función de activación tangente hiperbólica\n",
    "*   Usar el solucionador adam\n",
    "```\n",
    "\n"
   ],
   "metadata": {
    "id": "JMS9ZzmbToV3"
   }
  },
  {
   "cell_type": "code",
   "source": [
    "# MLPRegressor(\n",
    "#     activation = 'adam',\n",
    "#     solver = 'tanh'\n",
    "# )\n",
    "\n",
    "from sklearn.neural_network import MLPRegressor\n",
    "\n",
    "# Number of features and expected results\n",
    "feature_num = X_train.shape[1]\n",
    "exp_res_num = len(Y_train.unique())\n",
    "\n",
    "mlp_reg = MLPRegressor(hidden_layer_sizes=(feature_num, feature_num // 2),\n",
    "                       activation='tanh', solver='adam',\n",
    "                       max_iter=exp_res_num * 100, random_state=42)\n"
   ],
   "metadata": {
    "id": "I6-LDaidS_xU",
    "ExecuteTime": {
     "end_time": "2023-06-01T18:26:41.181128Z",
     "start_time": "2023-06-01T18:26:41.124671Z"
    }
   },
   "execution_count": 107,
   "outputs": []
  },
  {
   "cell_type": "markdown",
   "source": [
    "### Entrenamiento\n",
    "\n",
    "```\n",
    "Entrene el modelo definido con anterioridad y muestrer su tiempo de ejecución en segundos\n",
    "```\n",
    "**Importante:** esto puede tomar aproximadamente unos 5 minutos\n",
    "\n"
   ],
   "metadata": {
    "id": "0zjg5d59WdW2"
   }
  },
  {
   "cell_type": "code",
   "source": [
    "# <mi modelo de regresión>.fit(<subconjunto de entrenamiento en x>, <subconjunto de entrenamiento en y>)\n",
    "start_time = time.time()\n",
    "mlp_reg.fit(X_train_scaled, Y_train)\n",
    "end_time = time.time()\n",
    "print('Time elapsed on training: {:.2f} seconds'.format(end_time - start_time))\n",
    "# 5.708560466766357"
   ],
   "metadata": {
    "colab": {
     "base_uri": "https://localhost:8080/"
    },
    "id": "Cbr6burBWaKG",
    "outputId": "3b4fc713-f565-430d-ffc3-418b874264c3",
    "ExecuteTime": {
     "end_time": "2023-06-01T18:26:42.190508Z",
     "start_time": "2023-06-01T18:26:41.128681Z"
    }
   },
   "execution_count": 108,
   "outputs": [
    {
     "name": "stdout",
     "output_type": "stream",
     "text": [
      "Time elapsed on training: 1.06 seconds\n"
     ]
    }
   ]
  },
  {
   "cell_type": "markdown",
   "source": [
    "### Testeo y evaluación del modelo\n",
    "\n",
    "```\n",
    "Utilice el modelo entrenado para hacer la regresión de los datos de testeo\n",
    "```\n",
    "\n"
   ],
   "metadata": {
    "id": "9jOPyFNG_6wd"
   }
  },
  {
   "cell_type": "code",
   "source": [
    "# <mi modelo de regresión>g.predict()\n",
    "predictions = mlp_reg.predict(X_test_scaled)\n",
    "print(predictions)\n",
    "# array([1.99312555, 0.32425411, 1.03872412, ..., 1.956635  , 0.26321265,\n",
    "# 1.17075748])"
   ],
   "metadata": {
    "colab": {
     "base_uri": "https://localhost:8080/"
    },
    "id": "cApLy6-qAQAu",
    "outputId": "8dec09c4-ec23-4715-86f3-9ffbbb058a5c",
    "ExecuteTime": {
     "end_time": "2023-06-01T18:26:42.196411Z",
     "start_time": "2023-06-01T18:26:42.192157Z"
    }
   },
   "execution_count": 109,
   "outputs": [
    {
     "name": "stdout",
     "output_type": "stream",
     "text": [
      "[ 1.01124267e+00  1.64057837e+00  1.62874399e-02  7.68083537e-02\n",
      "  9.78846535e-01  1.04209992e+00 -2.81349318e-02 -2.82786495e-02\n",
      "  9.49068851e-01  1.04590951e+00  9.78715542e-01  1.73050773e+00\n",
      "  1.04390030e+00  1.57429310e-02 -1.96071891e-02  1.12301658e+00\n",
      "  1.05362677e+00 -2.54991193e-02  1.05308691e+00  1.06319763e+00\n",
      "  2.00546401e+00 -1.53565032e-02 -3.34945665e-02  2.03568247e+00\n",
      "  1.02158770e+00  9.79957726e-01  1.84733515e+00  1.04740516e+00\n",
      "  9.78963106e-01 -3.89230675e-02  1.02961074e+00 -1.97420022e-02\n",
      "  2.15252847e+00  1.11265248e+00  1.05338044e+00  2.04176553e+00\n",
      "  9.98031476e-01 -1.19470197e-02  1.89394998e+00  9.37246838e-01\n",
      "  1.05087501e+00  9.91835299e-01 -2.06053195e-02  9.79122547e-01\n",
      "  1.72161791e+00 -1.35202436e-02 -3.49067418e-02  1.85150494e+00\n",
      "  2.04360786e+00  9.31867137e-01 -2.85167130e-02  1.05478170e+00\n",
      "  1.05230005e+00  1.02364215e+00  1.05510915e+00  1.02368094e+00\n",
      "  1.00295458e+00 -1.81532760e-02  9.66341345e-01  3.50859823e-02\n",
      "  1.04362455e+00  1.05039034e+00  1.00477310e+00  7.28661016e-01\n",
      "  1.01648795e+00 -2.47533862e-02  1.05170812e+00 -5.04557150e-03\n",
      " -1.77092153e-02  2.00853289e+00  9.79036890e-01  1.04320814e+00\n",
      "  9.79330643e-01  1.12968252e+00  1.02846623e+00  1.05620102e+00\n",
      "  2.10636788e+00 -1.06521654e-02 -6.56343451e-03  9.00840688e-01\n",
      " -2.04844091e-02  2.11532190e-01  1.14774441e-01  9.05781351e-01\n",
      "  2.05121216e+00  1.02620353e+00 -1.65467133e-03  1.01743493e+00\n",
      "  1.47931006e-01  1.04023144e+00  9.79838879e-01  2.04995619e+00\n",
      " -1.96415253e-02  1.84618187e-01  9.79246757e-01 -3.08385549e-02\n",
      "  2.04405930e+00  9.79083044e-01  1.04768115e+00  7.31310108e-02\n",
      "  1.04761564e+00  9.82221145e-01  9.58541048e-02  2.08423261e+00\n",
      "  9.54727844e-01  9.79098277e-01  2.05811352e+00  1.05381402e+00\n",
      "  9.79312015e-01  2.32035825e-01  9.98498292e-01  9.95052984e-01\n",
      "  1.94989372e+00  1.25552693e+00  1.04120013e+00  2.09804418e+00\n",
      "  1.90198194e+00  2.12483100e+00  8.44271821e-01  1.06669988e+00\n",
      "  1.01374155e+00  1.02983457e+00  1.88500803e+00  9.58319622e-01\n",
      "  8.92025237e-01  9.78880051e-01  1.10998481e+00  1.05052876e+00\n",
      "  2.08334314e+00 -2.92056701e-02  9.79451920e-01  3.02152138e-02\n",
      "  9.31463502e-01  2.03009605e+00  9.86071188e-01  2.07988564e+00\n",
      "  1.02938534e+00 -2.36547367e-02  1.10553186e+00  9.79155151e-01\n",
      " -2.02914624e-02  1.14636416e+00  9.76305298e-01  9.82273478e-01\n",
      "  1.04202456e+00  2.03094208e+00  9.84492510e-01  2.01824323e+00\n",
      "  2.06825174e+00  1.04770619e+00  1.07514196e-01  2.11692114e+00\n",
      "  1.03151493e+00  1.36991848e-02  1.03656130e+00  2.05383330e+00\n",
      "  9.57238884e-01  8.94729008e-01  9.79779041e-01  2.09595685e+00\n",
      "  9.78987738e-01  1.02071146e+00  9.68252705e-01  1.61287151e+00\n",
      " -2.24950610e-02  1.06921589e+00  1.99413513e+00 -3.10198246e-02\n",
      "  2.09587144e+00  1.76315714e+00 -1.86218291e-02  3.73301650e-01\n",
      " -3.28952083e-02  2.10163154e+00  1.02418169e+00 -2.97223412e-02\n",
      "  1.99895046e+00  2.05141089e+00  1.65720036e+00  1.09878770e+00\n",
      "  2.10603850e-01  1.02763175e+00  1.23770029e+00  1.95461747e+00\n",
      "  4.15052413e-02 -3.70280995e-02  2.09895966e+00  9.60723419e-01\n",
      "  1.05480983e+00  1.24724996e+00  9.84367903e-01  9.84982209e-01\n",
      "  1.21529590e+00  1.05619340e+00  1.14023418e+00  2.15489641e+00\n",
      "  9.79757014e-01  1.92603411e+00  9.78962911e-01  1.03927094e+00\n",
      "  8.92699402e-01  1.04339202e+00  1.05499473e+00  1.86395778e+00\n",
      "  1.04049417e+00 -1.62035091e-02  2.62689326e-01  1.04647825e+00\n",
      " -3.47972740e-02  1.94525714e+00  2.04488870e+00  1.35763016e+00\n",
      "  1.92516697e+00  1.04734066e+00  9.12234492e-02 -1.68297663e-02\n",
      "  9.79320135e-01  9.78964017e-01 -1.78815200e-02  4.03158348e-02\n",
      "  9.55905879e-01  1.05805729e+00  1.64826466e+00  9.78571334e-01\n",
      "  1.94055047e+00  2.04591521e+00  9.75879340e-01  1.04507087e+00\n",
      "  9.16315884e-01  1.05520216e+00  9.78091782e-01  9.48811484e-01\n",
      "  8.85588445e-01  2.03537177e+00  3.02065600e-01  9.79410953e-01\n",
      "  2.10239603e+00  2.08953256e+00  2.03940993e+00  1.98740940e+00\n",
      "  1.01383350e+00  9.79650556e-01  1.05483102e+00  1.95676579e+00\n",
      "  2.03394147e+00  1.01305282e+00  9.08869617e-01  1.53199881e+00\n",
      "  9.06086780e-01  1.02653579e+00  9.80482755e-01  2.01030115e+00\n",
      "  8.88231152e-01  1.46698647e+00  1.04390061e+00  1.05457844e+00\n",
      "  1.07308728e+00  1.24585377e-01  2.11342159e+00  1.94977900e+00\n",
      "  2.08702907e+00  8.99425306e-01  1.91309674e+00  2.05856575e+00\n",
      "  9.77785583e-01  1.89773878e+00  1.05802627e+00  1.18306809e+00\n",
      "  2.01684788e+00  2.05631269e+00  1.01136081e+00 -2.78109798e-02\n",
      "  1.03528315e+00  1.08675718e+00  1.01970440e+00  2.02608839e+00\n",
      "  9.37922342e-01  1.94396608e+00  9.80068229e-01  1.87607759e+00\n",
      " -3.29507504e-02  1.92190227e+00  7.53364146e-01  2.04783728e+00\n",
      "  1.25893201e-01  9.80598540e-01  9.79177857e-01  1.97834942e+00\n",
      "  9.58621705e-01  1.05470807e+00  1.05104621e+00  1.04351418e+00\n",
      "  9.34066486e-01  2.83145347e-02  2.05446683e+00 -2.03394630e-02\n",
      " -2.72424042e-02  1.05277448e+00 -2.25664539e-02  9.82180543e-01\n",
      "  1.05638854e+00  9.67462444e-01  7.00500071e-02  1.00751283e+00\n",
      "  1.00190382e+00 -1.75382722e-02  9.71727852e-02  1.00200681e+00\n",
      "  1.03068245e+00  9.98498090e-01  8.92668423e-01  1.05088780e+00\n",
      "  1.03971214e+00  1.51562345e-01  1.05337109e+00  2.14943629e+00\n",
      "  1.66572015e+00 -2.25595749e-02  8.51123469e-01  2.06226518e+00\n",
      "  1.00907416e+00  2.04708242e+00  9.98260741e-01  1.43762038e+00\n",
      "  6.67235930e-03  1.05545032e+00 -1.81653635e-02  9.32193435e-01\n",
      "  1.05208231e+00  1.03674463e+00  2.16419960e+00 -2.23113989e-02\n",
      "  1.73958647e+00  1.17504807e+00  9.79435131e-01  9.91722328e-01\n",
      "  1.04283875e+00  2.07700910e-01  9.79110228e-01  1.01578782e+00\n",
      "  9.81704299e-01  2.10040534e+00  2.03697720e+00 -2.29044003e-02\n",
      "  3.08719146e-01  1.05340175e+00  1.05592223e+00  2.04857494e+00\n",
      "  8.90856963e-01  1.92147241e+00  1.05325316e+00  1.08904242e+00\n",
      "  1.05809106e+00  9.78990647e-01  1.66836782e+00  1.91187643e+00\n",
      "  1.88942994e+00  9.78632152e-01  9.90480114e-01  1.89008963e+00\n",
      "  1.05421841e+00 -5.64131420e-02 -2.03098167e-02  1.10906477e-01\n",
      "  9.79248761e-01  9.84774125e-01  1.02795848e+00  1.05268310e+00\n",
      "  9.81026432e-01  1.00243698e+00  4.44022773e-01  7.48178475e-01\n",
      "  1.00585364e+00  2.05554804e+00  9.49176339e-01  1.01250067e+00\n",
      "  8.20659568e-02 -1.18202471e-02  1.05087434e+00  2.04794349e+00\n",
      "  2.12906455e+00  6.83677704e-02  9.21706569e-01  8.91483041e-01\n",
      "  1.10069823e+00  9.55651569e-01  1.87991473e+00  2.05648079e+00\n",
      "  1.93455279e+00 -8.95209206e-03  9.27214643e-01  1.92819148e+00\n",
      "  9.79913131e-01  1.85664051e+00  1.91948858e+00  2.05174975e+00\n",
      "  2.07455642e+00 -5.02116595e-02  9.80612486e-01  9.79240294e-01\n",
      "  3.39340823e-02  9.52700903e-01  1.34968516e+00  9.33098182e-02\n",
      "  2.15795424e+00  1.75071246e+00  2.61963648e-02 -4.49260962e-02\n",
      "  9.77073615e-01  9.88066589e-01  9.81120923e-01  9.13482779e-01\n",
      "  1.27545716e+00  1.82310855e+00  1.04157489e+00  1.43697530e-02\n",
      "  1.90991043e+00  1.04169991e+00  9.83761628e-01  1.05369940e+00\n",
      "  9.25307992e-01  1.13787966e-01  2.07309185e+00  1.05037592e+00\n",
      "  1.05787397e+00  1.14834555e+00  9.41379351e-01  1.04444754e+00\n",
      "  1.05558940e+00  9.80206759e-01  9.40121153e-01  2.17443750e+00\n",
      "  1.05482513e+00  1.05352270e+00  1.03564343e+00  2.14386635e+00\n",
      "  9.79077616e-01  2.05365218e+00  1.00773216e+00  2.14732890e+00\n",
      "  9.79995885e-01  1.05830770e+00  9.79926988e-01  2.10248401e+00\n",
      "  2.07047494e+00 -3.37149563e-02  9.64593340e-01  1.05385677e+00\n",
      "  1.05324432e+00  9.79156325e-01  1.05522128e+00  1.02979041e+00\n",
      "  1.92008331e+00  1.02461195e+00  1.86341108e+00  9.68178527e-01\n",
      "  9.66630782e-01  1.77816932e+00  1.00079533e+00  1.41682120e+00\n",
      "  2.05288393e+00  1.04499436e+00  1.71865950e+00  1.95087183e+00\n",
      "  1.04301347e+00  1.05753010e+00  2.08102411e+00 -2.87429395e-02\n",
      "  1.93149201e+00  9.79192795e-01  9.10686103e-01  1.93391664e+00\n",
      "  2.04732517e+00  1.10971342e+00  8.49839041e-01  9.80352158e-01\n",
      "  1.05812887e+00  1.05101700e+00  1.05371695e+00  1.48769012e+00\n",
      "  2.05780034e+00  1.00283672e+00  2.12200725e+00  1.11895522e+00\n",
      "  1.04703849e+00  1.86806368e+00  1.43160622e+00  9.59270241e-01\n",
      "  8.98141236e-01  9.15717966e-01  1.06193190e+00  2.04287983e+00\n",
      "  1.01718726e+00  2.10847286e+00  9.79747354e-01 -3.96338389e-03\n",
      "  2.57242534e-01  1.05496611e+00  5.21167381e-02  9.62098206e-01\n",
      "  9.57456020e-01  4.45990495e-01  8.94443114e-01  9.85540166e-01\n",
      "  1.43974160e+00 -3.65211765e-02  1.83702445e+00]\n"
     ]
    }
   ]
  },
  {
   "cell_type": "markdown",
   "source": [
    "\n",
    "```\n",
    "Evalue el mejor modelo de regresión para mostrar su error cuadrático medio\n",
    "```\n",
    "\n"
   ],
   "metadata": {
    "id": "3pZRFhkBAZwg"
   }
  },
  {
   "cell_type": "code",
   "source": [
    "# print('mse: {:.2f}'.format(mean_squared_error(<subconjunto de testeo en y>, <predicciones realizadas por el modelo>)))\n",
    "print('mse: {:.2f}'.format(mean_squared_error(Y_test, predictions)))\n",
    "# mse: 0.03"
   ],
   "metadata": {
    "colab": {
     "base_uri": "https://localhost:8080/"
    },
    "id": "CAY08IJwAZW3",
    "outputId": "aa6c17e8-93dc-4fd6-b82c-b60f7b884d18",
    "ExecuteTime": {
     "end_time": "2023-06-01T18:26:42.200815Z",
     "start_time": "2023-06-01T18:26:42.198832Z"
    }
   },
   "execution_count": 110,
   "outputs": [
    {
     "name": "stdout",
     "output_type": "stream",
     "text": [
      "mse: 0.02\n"
     ]
    }
   ]
  },
  {
   "cell_type": "markdown",
   "source": [
    "\n",
    "```\n",
    "Visualice la curva de entrenamiento\n",
    "```\n",
    "\n"
   ],
   "metadata": {
    "id": "-YnPEV1bDwIA"
   }
  },
  {
   "cell_type": "code",
   "source": [
    "# see how well was the training of the model\n",
    "# plt.plot(<mi modelo de regresión>.loss_curve_)\n",
    "\n",
    "# Show accuracy rate\n",
    "print('Accuracy rate: {:.2f}'.format(mlp_reg.score(X_test_scaled, Y_test)))\n",
    "\n",
    "plt.plot(mlp_reg.loss_curve_)\n",
    "plt.title(\"Loss Curve\", fontsize=14)\n",
    "plt.xlabel('Iterations')\n",
    "plt.ylabel('Cost')\n",
    "plt.show()\n"
   ],
   "metadata": {
    "colab": {
     "base_uri": "https://localhost:8080/",
     "height": 473
    },
    "id": "6H_rU7mND5AZ",
    "outputId": "3143fae1-830a-4083-8f1f-5a9f7ac724a5",
    "ExecuteTime": {
     "end_time": "2023-06-01T18:26:42.333526Z",
     "start_time": "2023-06-01T18:26:42.202777Z"
    }
   },
   "execution_count": 111,
   "outputs": [
    {
     "name": "stdout",
     "output_type": "stream",
     "text": [
      "Accuracy rate: 0.96\n"
     ]
    },
    {
     "data": {
      "text/plain": "<Figure size 640x480 with 1 Axes>",
      "image/png": "[encoded data removed]"
     },
     "metadata": {},
     "output_type": "display_data"
    }
   ]
  },
  {
   "cell_type": "markdown",
   "source": [
    "```\n",
    "Visualice la diferencia entre los valores reales y los predichos por la red neuronal\n",
    "```\n",
    "\n"
   ],
   "metadata": {
    "id": "g1gGt5OvD_U9"
   }
  },
  {
   "cell_type": "code",
   "execution_count": 112,
   "outputs": [
    {
     "data": {
      "text/plain": "<Figure size 640x480 with 1 Axes>",
      "image/png": "[encoded data removed]"
     },
     "metadata": {},
     "output_type": "display_data"
    }
   ],
   "source": [
    "# pd.DataFrame({'growntruth': <subconjunto de testeo en y>,'predictions': <predicciones>})\n",
    "pd.DataFrame({'growntruth': Y_test, 'predictions': predictions})\n",
    "# Plot this comparison as scatter plot\n",
    "plt.scatter(Y_test, predictions)\n",
    "plt.xlabel('Growntruth')\n",
    "plt.ylabel('Predictions')\n",
    "plt.title('Growntruth vs Predictions')\n",
    "plt.show()\n"
   ],
   "metadata": {
    "collapsed": false,
    "ExecuteTime": {
     "end_time": "2023-06-01T18:26:42.439141Z",
     "start_time": "2023-06-01T18:26:42.340602Z"
    }
   }
  },
  {
   "cell_type": "markdown",
   "source": [
    "\n",
    "```\n",
    "Con el valor del accuracy y las gráficas de entrenamiento y matriz de confusión explique brevemente el rendimiento del modelo de red neuronal entrenado\n",
    "```\n"
   ],
   "metadata": {
    "id": "ljw5usG7EM8-"
   }
  },
  {
   "cell_type": "markdown",
   "source": [
    "**We got an accuracy of 0.96 which is really good, and the loss curve shows that the model is learning. From the plot we can see that there is a correct estimation of data**"
   ],
   "metadata": {
    "id": "pBzu1z8zEn9V"
   }
  },
  {
   "cell_type": "markdown",
   "source": [
    "### Búsqueda de hiperparámetros a través de una matriz\n",
    "\n",
    "\n",
    "\n",
    "```\n",
    "Defina una matriz de búsqueda de hiperparámetros que contenga lo siguiente:\n",
    "\n",
    "*   Un modelo de red neuronal con el número de capaz y neuronas que considere lleve a mejorar el aprendizaje en la tarea de regresión\n",
    "*   El número de iteraciones que consideren sean pertinentes\n",
    "*   El optimizador de la familia de los métodos quasi-Newton\n",
    "*   La función de activación relu\n",
    "```\n",
    "\n"
   ],
   "metadata": {
    "id": "ycaFgoVyE5OX"
   }
  },
  {
   "cell_type": "code",
   "source": [
    "param_grid = {\n",
    "    'activation': ['relu'],  # Function of activation\n",
    "    'hidden_layer_sizes': [(64, 128, 64)],  # Number of neurons in the hidden layers\n",
    "    'max_iter': [100, 200, 300],  # Maximum number of iterations\n",
    "    'solver': ['lbfgs', 'bfgs', 'newton-cg']  # Quasi-Newton optimizer\n",
    "}"
   ],
   "metadata": {
    "id": "XOBw2UPUEMo2",
    "ExecuteTime": {
     "end_time": "2023-06-01T18:26:42.447144Z",
     "start_time": "2023-06-01T18:26:42.442306Z"
    }
   },
   "execution_count": 113,
   "outputs": []
  },
  {
   "cell_type": "markdown",
   "source": [
    "\n",
    "```\n",
    "Defina la búsqueda de la matriz sin validación cruzada\n",
    "```\n",
    "\n"
   ],
   "metadata": {
    "id": "mSskMXm7IGJA"
   }
  },
  {
   "cell_type": "code",
   "source": [
    "grid_search = GridSearchCV(mlp_reg, param_grid, n_jobs=-1)"
   ],
   "metadata": {
    "id": "sOtjIxvHIFfQ",
    "ExecuteTime": {
     "end_time": "2023-06-01T18:26:42.453312Z",
     "start_time": "2023-06-01T18:26:42.451266Z"
    }
   },
   "execution_count": 114,
   "outputs": []
  },
  {
   "cell_type": "markdown",
   "source": [
    "\n",
    "```\n",
    "Execute la búsqueda de los hiperparámetros y muestre el tiempo total de execución\n",
    "```\n",
    "\n",
    "**Importante:** tenga en mente que esta sección puede tardar varios minutos, de acuerdo a los modelos incluídos en la búsqueda"
   ],
   "metadata": {
    "id": "9lADtMRbIWL3"
   }
  },
  {
   "cell_type": "code",
   "source": [
    "tc_start = time.time()\n",
    "grid_search.fit(X_train_scaled, Y_train)\n",
    "tc_end = time.time()\n",
    "# print(tc_end-tc_start)\n",
    "print('Time elapsed on training: {:.2f} seconds'.format(tc_end - tc_start))\n",
    "# 13.170661687850952"
   ],
   "metadata": {
    "colab": {
     "base_uri": "https://localhost:8080/"
    },
    "id": "jNYHSuRXIfiY",
    "outputId": "7acb8bd5-94f4-4c2b-9cca-46956d2279cc",
    "ExecuteTime": {
     "end_time": "2023-06-01T18:27:36.038140Z",
     "start_time": "2023-06-01T18:26:42.465846Z"
    }
   },
   "execution_count": 115,
   "outputs": [
    {
     "name": "stderr",
     "output_type": "stream",
     "text": [
      "/Library/Frameworks/Python.framework/Versions/3.11/lib/python3.11/site-packages/sklearn/neural_network/_multilayer_perceptron.py:541: ConvergenceWarning: lbfgs failed to converge (status=1):\n",
      "STOP: TOTAL NO. of ITERATIONS REACHED LIMIT.\n",
      "\n",
      "Increase the number of iterations (max_iter) or scale the data as shown in:\n",
      "    https://scikit-learn.org/stable/modules/preprocessing.html\n",
      "  self.n_iter_ = _check_optimize_result(\"lbfgs\", opt_res, self.max_iter)\n",
      "/Library/Frameworks/Python.framework/Versions/3.11/lib/python3.11/site-packages/sklearn/neural_network/_multilayer_perceptron.py:541: ConvergenceWarning: lbfgs failed to converge (status=1):\n",
      "STOP: TOTAL NO. of ITERATIONS REACHED LIMIT.\n",
      "\n",
      "Increase the number of iterations (max_iter) or scale the data as shown in:\n",
      "    https://scikit-learn.org/stable/modules/preprocessing.html\n",
      "  self.n_iter_ = _check_optimize_result(\"lbfgs\", opt_res, self.max_iter)\n",
      "/Library/Frameworks/Python.framework/Versions/3.11/lib/python3.11/site-packages/sklearn/neural_network/_multilayer_perceptron.py:541: ConvergenceWarning: lbfgs failed to converge (status=1):\n",
      "STOP: TOTAL NO. of ITERATIONS REACHED LIMIT.\n",
      "\n",
      "Increase the number of iterations (max_iter) or scale the data as shown in:\n",
      "    https://scikit-learn.org/stable/modules/preprocessing.html\n",
      "  self.n_iter_ = _check_optimize_result(\"lbfgs\", opt_res, self.max_iter)\n",
      "/Library/Frameworks/Python.framework/Versions/3.11/lib/python3.11/site-packages/sklearn/neural_network/_multilayer_perceptron.py:541: ConvergenceWarning: lbfgs failed to converge (status=1):\n",
      "STOP: TOTAL NO. of ITERATIONS REACHED LIMIT.\n",
      "\n",
      "Increase the number of iterations (max_iter) or scale the data as shown in:\n",
      "    https://scikit-learn.org/stable/modules/preprocessing.html\n",
      "  self.n_iter_ = _check_optimize_result(\"lbfgs\", opt_res, self.max_iter)\n",
      "/Library/Frameworks/Python.framework/Versions/3.11/lib/python3.11/site-packages/sklearn/neural_network/_multilayer_perceptron.py:541: ConvergenceWarning: lbfgs failed to converge (status=1):\n",
      "STOP: TOTAL NO. of ITERATIONS REACHED LIMIT.\n",
      "\n",
      "Increase the number of iterations (max_iter) or scale the data as shown in:\n",
      "    https://scikit-learn.org/stable/modules/preprocessing.html\n",
      "  self.n_iter_ = _check_optimize_result(\"lbfgs\", opt_res, self.max_iter)\n",
      "/Library/Frameworks/Python.framework/Versions/3.11/lib/python3.11/site-packages/sklearn/neural_network/_multilayer_perceptron.py:541: ConvergenceWarning: lbfgs failed to converge (status=1):\n",
      "STOP: TOTAL NO. of ITERATIONS REACHED LIMIT.\n",
      "\n",
      "Increase the number of iterations (max_iter) or scale the data as shown in:\n",
      "    https://scikit-learn.org/stable/modules/preprocessing.html\n",
      "  self.n_iter_ = _check_optimize_result(\"lbfgs\", opt_res, self.max_iter)\n",
      "/Library/Frameworks/Python.framework/Versions/3.11/lib/python3.11/site-packages/sklearn/neural_network/_multilayer_perceptron.py:541: ConvergenceWarning: lbfgs failed to converge (status=1):\n",
      "STOP: TOTAL NO. of ITERATIONS REACHED LIMIT.\n",
      "\n",
      "Increase the number of iterations (max_iter) or scale the data as shown in:\n",
      "    https://scikit-learn.org/stable/modules/preprocessing.html\n",
      "  self.n_iter_ = _check_optimize_result(\"lbfgs\", opt_res, self.max_iter)\n",
      "/Library/Frameworks/Python.framework/Versions/3.11/lib/python3.11/site-packages/sklearn/neural_network/_multilayer_perceptron.py:541: ConvergenceWarning: lbfgs failed to converge (status=1):\n",
      "STOP: TOTAL NO. of ITERATIONS REACHED LIMIT.\n",
      "\n",
      "Increase the number of iterations (max_iter) or scale the data as shown in:\n",
      "    https://scikit-learn.org/stable/modules/preprocessing.html\n",
      "  self.n_iter_ = _check_optimize_result(\"lbfgs\", opt_res, self.max_iter)\n",
      "/Library/Frameworks/Python.framework/Versions/3.11/lib/python3.11/site-packages/sklearn/neural_network/_multilayer_perceptron.py:541: ConvergenceWarning: lbfgs failed to converge (status=1):\n",
      "STOP: TOTAL NO. of ITERATIONS REACHED LIMIT.\n",
      "\n",
      "Increase the number of iterations (max_iter) or scale the data as shown in:\n",
      "    https://scikit-learn.org/stable/modules/preprocessing.html\n",
      "  self.n_iter_ = _check_optimize_result(\"lbfgs\", opt_res, self.max_iter)\n",
      "/Library/Frameworks/Python.framework/Versions/3.11/lib/python3.11/site-packages/sklearn/neural_network/_multilayer_perceptron.py:541: ConvergenceWarning: lbfgs failed to converge (status=1):\n",
      "STOP: TOTAL NO. of ITERATIONS REACHED LIMIT.\n",
      "\n",
      "Increase the number of iterations (max_iter) or scale the data as shown in:\n",
      "    https://scikit-learn.org/stable/modules/preprocessing.html\n",
      "  self.n_iter_ = _check_optimize_result(\"lbfgs\", opt_res, self.max_iter)\n",
      "/Library/Frameworks/Python.framework/Versions/3.11/lib/python3.11/site-packages/sklearn/neural_network/_multilayer_perceptron.py:541: ConvergenceWarning: lbfgs failed to converge (status=1):\n",
      "STOP: TOTAL NO. of ITERATIONS REACHED LIMIT.\n",
      "\n",
      "Increase the number of iterations (max_iter) or scale the data as shown in:\n",
      "    https://scikit-learn.org/stable/modules/preprocessing.html\n",
      "  self.n_iter_ = _check_optimize_result(\"lbfgs\", opt_res, self.max_iter)\n",
      "/Library/Frameworks/Python.framework/Versions/3.11/lib/python3.11/site-packages/sklearn/neural_network/_multilayer_perceptron.py:541: ConvergenceWarning: lbfgs failed to converge (status=1):\n",
      "STOP: TOTAL NO. of ITERATIONS REACHED LIMIT.\n",
      "\n",
      "Increase the number of iterations (max_iter) or scale the data as shown in:\n",
      "    https://scikit-learn.org/stable/modules/preprocessing.html\n",
      "  self.n_iter_ = _check_optimize_result(\"lbfgs\", opt_res, self.max_iter)\n",
      "/Library/Frameworks/Python.framework/Versions/3.11/lib/python3.11/site-packages/sklearn/neural_network/_multilayer_perceptron.py:541: ConvergenceWarning: lbfgs failed to converge (status=1):\n",
      "STOP: TOTAL NO. of ITERATIONS REACHED LIMIT.\n",
      "\n",
      "Increase the number of iterations (max_iter) or scale the data as shown in:\n",
      "    https://scikit-learn.org/stable/modules/preprocessing.html\n",
      "  self.n_iter_ = _check_optimize_result(\"lbfgs\", opt_res, self.max_iter)\n",
      "/Library/Frameworks/Python.framework/Versions/3.11/lib/python3.11/site-packages/sklearn/neural_network/_multilayer_perceptron.py:541: ConvergenceWarning: lbfgs failed to converge (status=1):\n",
      "STOP: TOTAL NO. of ITERATIONS REACHED LIMIT.\n",
      "\n",
      "Increase the number of iterations (max_iter) or scale the data as shown in:\n",
      "    https://scikit-learn.org/stable/modules/preprocessing.html\n",
      "  self.n_iter_ = _check_optimize_result(\"lbfgs\", opt_res, self.max_iter)\n",
      "/Library/Frameworks/Python.framework/Versions/3.11/lib/python3.11/site-packages/sklearn/neural_network/_multilayer_perceptron.py:541: ConvergenceWarning: lbfgs failed to converge (status=1):\n",
      "STOP: TOTAL NO. of ITERATIONS REACHED LIMIT.\n",
      "\n",
      "Increase the number of iterations (max_iter) or scale the data as shown in:\n",
      "    https://scikit-learn.org/stable/modules/preprocessing.html\n",
      "  self.n_iter_ = _check_optimize_result(\"lbfgs\", opt_res, self.max_iter)\n",
      "/Library/Frameworks/Python.framework/Versions/3.11/lib/python3.11/site-packages/sklearn/model_selection/_validation.py:378: FitFailedWarning: \n",
      "30 fits failed out of a total of 45.\n",
      "The score on these train-test partitions for these parameters will be set to nan.\n",
      "If these failures are not expected, you can try to debug them by setting error_score='raise'.\n",
      "\n",
      "Below are more details about the failures:\n",
      "--------------------------------------------------------------------------------\n",
      "8 fits failed with the following error:\n",
      "Traceback (most recent call last):\n",
      "  File \"/Library/Frameworks/Python.framework/Versions/3.11/lib/python3.11/site-packages/sklearn/model_selection/_validation.py\", line 686, in _fit_and_score\n",
      "    estimator.fit(X_train, y_train, **fit_params)\n",
      "  File \"/Library/Frameworks/Python.framework/Versions/3.11/lib/python3.11/site-packages/sklearn/neural_network/_multilayer_perceptron.py\", line 747, in fit\n",
      "    self._validate_params()\n",
      "  File \"/Library/Frameworks/Python.framework/Versions/3.11/lib/python3.11/site-packages/sklearn/base.py\", line 600, in _validate_params\n",
      "    validate_parameter_constraints(\n",
      "  File \"/Library/Frameworks/Python.framework/Versions/3.11/lib/python3.11/site-packages/sklearn/utils/_param_validation.py\", line 97, in validate_parameter_constraints\n",
      "    raise InvalidParameterError(\n",
      "sklearn.utils._param_validation.InvalidParameterError: The 'solver' parameter of MLPRegressor must be a str among {'adam', 'lbfgs', 'sgd'}. Got 'bfgs' instead.\n",
      "\n",
      "--------------------------------------------------------------------------------\n",
      "6 fits failed with the following error:\n",
      "Traceback (most recent call last):\n",
      "  File \"/Library/Frameworks/Python.framework/Versions/3.11/lib/python3.11/site-packages/sklearn/model_selection/_validation.py\", line 686, in _fit_and_score\n",
      "    estimator.fit(X_train, y_train, **fit_params)\n",
      "  File \"/Library/Frameworks/Python.framework/Versions/3.11/lib/python3.11/site-packages/sklearn/neural_network/_multilayer_perceptron.py\", line 747, in fit\n",
      "    self._validate_params()\n",
      "  File \"/Library/Frameworks/Python.framework/Versions/3.11/lib/python3.11/site-packages/sklearn/base.py\", line 600, in _validate_params\n",
      "    validate_parameter_constraints(\n",
      "  File \"/Library/Frameworks/Python.framework/Versions/3.11/lib/python3.11/site-packages/sklearn/utils/_param_validation.py\", line 97, in validate_parameter_constraints\n",
      "    raise InvalidParameterError(\n",
      "sklearn.utils._param_validation.InvalidParameterError: The 'solver' parameter of MLPRegressor must be a str among {'sgd', 'adam', 'lbfgs'}. Got 'bfgs' instead.\n",
      "\n",
      "--------------------------------------------------------------------------------\n",
      "1 fits failed with the following error:\n",
      "Traceback (most recent call last):\n",
      "  File \"/Library/Frameworks/Python.framework/Versions/3.11/lib/python3.11/site-packages/sklearn/model_selection/_validation.py\", line 686, in _fit_and_score\n",
      "    estimator.fit(X_train, y_train, **fit_params)\n",
      "  File \"/Library/Frameworks/Python.framework/Versions/3.11/lib/python3.11/site-packages/sklearn/neural_network/_multilayer_perceptron.py\", line 747, in fit\n",
      "    self._validate_params()\n",
      "  File \"/Library/Frameworks/Python.framework/Versions/3.11/lib/python3.11/site-packages/sklearn/base.py\", line 600, in _validate_params\n",
      "    validate_parameter_constraints(\n",
      "  File \"/Library/Frameworks/Python.framework/Versions/3.11/lib/python3.11/site-packages/sklearn/utils/_param_validation.py\", line 97, in validate_parameter_constraints\n",
      "    raise InvalidParameterError(\n",
      "sklearn.utils._param_validation.InvalidParameterError: The 'solver' parameter of MLPRegressor must be a str among {'lbfgs', 'adam', 'sgd'}. Got 'bfgs' instead.\n",
      "\n",
      "--------------------------------------------------------------------------------\n",
      "8 fits failed with the following error:\n",
      "Traceback (most recent call last):\n",
      "  File \"/Library/Frameworks/Python.framework/Versions/3.11/lib/python3.11/site-packages/sklearn/model_selection/_validation.py\", line 686, in _fit_and_score\n",
      "    estimator.fit(X_train, y_train, **fit_params)\n",
      "  File \"/Library/Frameworks/Python.framework/Versions/3.11/lib/python3.11/site-packages/sklearn/neural_network/_multilayer_perceptron.py\", line 747, in fit\n",
      "    self._validate_params()\n",
      "  File \"/Library/Frameworks/Python.framework/Versions/3.11/lib/python3.11/site-packages/sklearn/base.py\", line 600, in _validate_params\n",
      "    validate_parameter_constraints(\n",
      "  File \"/Library/Frameworks/Python.framework/Versions/3.11/lib/python3.11/site-packages/sklearn/utils/_param_validation.py\", line 97, in validate_parameter_constraints\n",
      "    raise InvalidParameterError(\n",
      "sklearn.utils._param_validation.InvalidParameterError: The 'solver' parameter of MLPRegressor must be a str among {'adam', 'lbfgs', 'sgd'}. Got 'newton-cg' instead.\n",
      "\n",
      "--------------------------------------------------------------------------------\n",
      "6 fits failed with the following error:\n",
      "Traceback (most recent call last):\n",
      "  File \"/Library/Frameworks/Python.framework/Versions/3.11/lib/python3.11/site-packages/sklearn/model_selection/_validation.py\", line 686, in _fit_and_score\n",
      "    estimator.fit(X_train, y_train, **fit_params)\n",
      "  File \"/Library/Frameworks/Python.framework/Versions/3.11/lib/python3.11/site-packages/sklearn/neural_network/_multilayer_perceptron.py\", line 747, in fit\n",
      "    self._validate_params()\n",
      "  File \"/Library/Frameworks/Python.framework/Versions/3.11/lib/python3.11/site-packages/sklearn/base.py\", line 600, in _validate_params\n",
      "    validate_parameter_constraints(\n",
      "  File \"/Library/Frameworks/Python.framework/Versions/3.11/lib/python3.11/site-packages/sklearn/utils/_param_validation.py\", line 97, in validate_parameter_constraints\n",
      "    raise InvalidParameterError(\n",
      "sklearn.utils._param_validation.InvalidParameterError: The 'solver' parameter of MLPRegressor must be a str among {'sgd', 'adam', 'lbfgs'}. Got 'newton-cg' instead.\n",
      "\n",
      "--------------------------------------------------------------------------------\n",
      "1 fits failed with the following error:\n",
      "Traceback (most recent call last):\n",
      "  File \"/Library/Frameworks/Python.framework/Versions/3.11/lib/python3.11/site-packages/sklearn/model_selection/_validation.py\", line 686, in _fit_and_score\n",
      "    estimator.fit(X_train, y_train, **fit_params)\n",
      "  File \"/Library/Frameworks/Python.framework/Versions/3.11/lib/python3.11/site-packages/sklearn/neural_network/_multilayer_perceptron.py\", line 747, in fit\n",
      "    self._validate_params()\n",
      "  File \"/Library/Frameworks/Python.framework/Versions/3.11/lib/python3.11/site-packages/sklearn/base.py\", line 600, in _validate_params\n",
      "    validate_parameter_constraints(\n",
      "  File \"/Library/Frameworks/Python.framework/Versions/3.11/lib/python3.11/site-packages/sklearn/utils/_param_validation.py\", line 97, in validate_parameter_constraints\n",
      "    raise InvalidParameterError(\n",
      "sklearn.utils._param_validation.InvalidParameterError: The 'solver' parameter of MLPRegressor must be a str among {'lbfgs', 'adam', 'sgd'}. Got 'newton-cg' instead.\n",
      "\n",
      "  warnings.warn(some_fits_failed_message, FitFailedWarning)\n",
      "/Library/Frameworks/Python.framework/Versions/3.11/lib/python3.11/site-packages/sklearn/model_selection/_search.py:952: UserWarning: One or more of the test scores are non-finite: [0.9950849         nan        nan 0.99848405        nan        nan\n",
      " 0.9991663         nan        nan]\n",
      "  warnings.warn(\n"
     ]
    },
    {
     "name": "stdout",
     "output_type": "stream",
     "text": [
      "Time elapsed on training: 53.57 seconds\n"
     ]
    },
    {
     "name": "stderr",
     "output_type": "stream",
     "text": [
      "/Library/Frameworks/Python.framework/Versions/3.11/lib/python3.11/site-packages/sklearn/neural_network/_multilayer_perceptron.py:541: ConvergenceWarning: lbfgs failed to converge (status=1):\n",
      "STOP: TOTAL NO. of ITERATIONS REACHED LIMIT.\n",
      "\n",
      "Increase the number of iterations (max_iter) or scale the data as shown in:\n",
      "    https://scikit-learn.org/stable/modules/preprocessing.html\n",
      "  self.n_iter_ = _check_optimize_result(\"lbfgs\", opt_res, self.max_iter)\n"
     ]
    }
   ]
  },
  {
   "cell_type": "markdown",
   "source": [
    "\n",
    "```\n",
    "Muestre el 'mejor modelo' de la búsqueda de los hiperparámetros\n",
    "```\n",
    "\n"
   ],
   "metadata": {
    "id": "cFXyTuWqf9CW"
   }
  },
  {
   "cell_type": "code",
   "source": [
    "# print('The best hyper parameter values are:\\n{}'.format(<mi búsqueda de cuadrícula>.best_params_))\n",
    "print('The best hyper parameter values are:\\n{}'.format(grid_search.best_params_))\n",
    "# The best hyper parameter values are:\n",
    "# {'activation': 'tanh', 'hidden_layer_sizes': (8, 16, 8), 'max_iter': 200, 'solver': 'lbfgs'}"
   ],
   "metadata": {
    "colab": {
     "base_uri": "https://localhost:8080/"
    },
    "id": "GM6XfvyQgL1m",
    "outputId": "cc77a7b6-2233-4526-8817-597abae0fc5d",
    "ExecuteTime": {
     "end_time": "2023-06-01T18:27:36.040317Z",
     "start_time": "2023-06-01T18:27:36.040060Z"
    }
   },
   "execution_count": 116,
   "outputs": [
    {
     "name": "stdout",
     "output_type": "stream",
     "text": [
      "The best hyper parameter values are:\n",
      "{'activation': 'relu', 'hidden_layer_sizes': (64, 128, 64), 'max_iter': 300, 'solver': 'lbfgs'}\n"
     ]
    }
   ]
  },
  {
   "cell_type": "markdown",
   "source": [
    "\n",
    "```\n",
    "Obtenga y muestre las predicciones con el mejor modelo de la búsqueda de hiperparámetros\n",
    "```\n",
    "\n"
   ],
   "metadata": {
    "id": "WxBCnJ2ugMM1"
   }
  },
  {
   "cell_type": "code",
   "source": [
    "# <mi búsqueda de cuadrícula>.best_estimator_.predict()\n",
    "predictions = grid_search.best_estimator_.predict(X_test_scaled)\n",
    "# array([2.01497909, 0.10336705, 1.00173473, ..., 1.99163308, 0.00839881,\n",
    "# 0.987649  ])\n",
    "predictions"
   ],
   "metadata": {
    "colab": {
     "base_uri": "https://localhost:8080/"
    },
    "id": "tu4lsfAigWEm",
    "outputId": "6465ed21-43d6-4de5-e0c1-f6e09c3cbbeb",
    "ExecuteTime": {
     "end_time": "2023-06-01T18:27:36.125565Z",
     "start_time": "2023-06-01T18:27:36.041143Z"
    }
   },
   "execution_count": 117,
   "outputs": [
    {
     "data": {
      "text/plain": "array([ 1.00500348e+00,  1.97591053e+00, -2.18169654e-04,  1.51524997e-03,\n        1.01123964e+00,  1.00119306e+00,  2.91281361e-03,  4.70057430e-03,\n        9.98910751e-01,  9.77457124e-01,  1.01221439e+00,  2.00251301e+00,\n        1.01708915e+00,  9.45686440e-03, -1.39361469e-02,  9.98543548e-01,\n        9.95405623e-01,  2.52913147e-03,  9.93716992e-01,  1.00589148e+00,\n        1.97701119e+00, -1.36166592e-02, -2.06276908e-03,  1.95831916e+00,\n        9.93796673e-01,  1.00842773e+00,  2.00382615e+00,  9.72834423e-01,\n        9.93320158e-01, -4.86033760e-03,  1.00151923e+00, -9.56083765e-03,\n        1.99528424e+00,  9.91091766e-01,  1.00350921e+00,  2.01970421e+00,\n        9.62246528e-01,  4.63757823e-03,  1.98891838e+00,  1.00503308e+00,\n        1.00665367e+00,  9.92989577e-01, -7.74701083e-03,  9.92306682e-01,\n        2.00737658e+00, -1.15748682e-03, -7.20226984e-04,  1.99050258e+00,\n        1.96710800e+00,  1.00462751e+00,  4.30957400e-03,  1.00199388e+00,\n        1.00188291e+00,  1.00060415e+00,  1.00381608e+00,  9.91771078e-01,\n        1.00211393e+00, -2.15581469e-02,  1.00301293e+00,  9.20888628e-04,\n        1.00294694e+00,  1.00146221e+00,  1.00125633e+00,  1.02716435e+00,\n        9.88984135e-01,  4.37962485e-03,  1.01372310e+00, -3.04078518e-03,\n       -5.44011402e-03,  2.00362524e+00,  1.01169111e+00,  9.93362647e-01,\n        9.94932947e-01,  9.84355708e-01,  1.00280335e+00,  9.99613245e-01,\n        1.99673157e+00,  3.61952772e-03,  6.54604869e-03,  1.00208778e+00,\n        3.22497746e-02,  1.13238670e-02, -2.81884692e-03,  1.00490235e+00,\n        1.99221467e+00,  1.00742872e+00,  4.22923974e-03,  1.00896951e+00,\n       -7.01209300e-03,  9.96597202e-01,  1.00787259e+00,  1.97324225e+00,\n       -1.04028085e-02,  1.01099108e+00,  9.97667475e-01, -5.74307951e-03,\n        1.98997522e+00,  9.94578584e-01,  9.77192213e-01,  6.22528607e-04,\n        1.00242617e+00,  9.94904187e-01, -2.89408829e-03,  2.00544858e+00,\n        9.95237129e-01,  1.00149227e+00,  2.00873088e+00,  9.99057465e-01,\n        9.97761312e-01, -6.14229806e-03,  9.60777211e-01,  9.62713288e-01,\n        2.00450481e+00,  9.95752309e-01,  1.00797384e+00,  1.96859700e+00,\n        1.98418675e+00,  1.98603467e+00,  9.85614461e-01,  1.03046077e+00,\n        1.00452099e+00,  9.94201653e-01,  2.00255175e+00,  1.00243650e+00,\n        1.00094454e+00,  1.00715012e+00,  1.00051283e+00,  1.01664670e+00,\n        2.00609664e+00, -2.27468702e-03,  9.92930412e-01,  9.36654864e-03,\n        9.73977194e-01,  1.99274495e+00,  9.92908052e-01,  1.98070795e+00,\n        9.96087133e-01, -8.64078509e-03,  9.97940363e-01,  9.99914035e-01,\n        1.07232345e-02,  9.97346896e-01,  9.93044847e-01,  1.00064894e+00,\n        9.69188132e-01,  2.00708809e+00,  1.02567493e+00,  1.96097716e+00,\n        2.02333922e+00,  9.69983980e-01, -3.45280306e-03,  1.99583676e+00,\n        9.96764339e-01,  2.99121239e-03,  1.00689824e+00,  2.10140881e+00,\n        1.01311681e+00,  9.99939470e-01,  9.94665704e-01,  1.97623385e+00,\n        9.99167961e-01,  9.91403304e-01,  9.90865513e-01,  1.96665227e+00,\n       -9.28169897e-03,  9.87272687e-01,  1.97403462e+00, -2.42095204e-03,\n        2.00779401e+00,  1.99820909e+00,  2.26373775e-03,  7.36771407e-03,\n        2.15200579e-03,  1.99205864e+00,  9.93999515e-01, -1.09005779e-03,\n        2.00451599e+00,  2.08027670e+00,  1.01666838e+00,  9.98662933e-01,\n       -1.19894055e-02,  9.97787686e-01,  1.87738404e+00,  2.00077908e+00,\n       -1.66569018e-03, -9.33403053e-04,  2.00205389e+00,  9.91345107e-01,\n        1.00285805e+00,  9.96015085e-01,  9.98775605e-01,  1.00017360e+00,\n        9.91483222e-01,  9.95231427e-01,  9.98509826e-01,  2.01498529e+00,\n        9.93816795e-01,  1.98372665e+00,  9.93613964e-01,  9.96069508e-01,\n        9.99405805e-01,  1.00758199e+00,  1.00251208e+00,  2.00792340e+00,\n        9.89133369e-01,  3.64342172e-03,  1.28058512e-02,  9.94716745e-01,\n       -3.64535931e-03,  2.03894327e+00,  1.95177507e+00,  1.00514726e+00,\n        1.99782430e+00,  9.87339975e-01, -4.90675741e-04,  8.34543513e-04,\n        9.99354882e-01,  9.95498611e-01,  5.52033874e-04,  2.60333793e-03,\n        1.00103149e+00,  9.97278681e-01,  2.01719255e+00,  1.01151632e+00,\n        1.98103334e+00,  2.01059176e+00,  9.94644029e-01,  9.92311360e-01,\n        1.00792946e+00,  1.01120736e+00,  9.93703780e-01,  1.00136962e+00,\n        1.01161229e+00,  1.98908590e+00,  4.21176601e-04,  9.90182169e-01,\n        2.03043536e+00,  2.03852240e+00,  1.98324228e+00,  1.99098883e+00,\n        9.84454766e-01,  9.96120683e-01,  1.00171962e+00,  1.97679421e+00,\n        2.01685121e+00,  9.81958253e-01,  1.00509403e+00,  1.92804972e+00,\n        1.00623002e+00,  1.00794494e+00,  1.00339271e+00,  1.96583961e+00,\n        1.01293550e+00,  1.98257676e+00,  9.93413325e-01,  1.00448960e+00,\n        9.97098337e-01, -6.07997436e-03,  2.01377052e+00,  2.02567573e+00,\n        2.03300531e+00,  1.00693963e+00,  1.97916642e+00,  2.00455863e+00,\n        9.95419873e-01,  2.00998878e+00,  1.01044452e+00,  9.95991994e-01,\n        2.02413530e+00,  2.00389721e+00,  1.00539442e+00,  9.10613262e-04,\n        9.97862288e-01,  1.01249690e+00,  1.00195541e+00,  2.00406197e+00,\n        1.00748515e+00,  2.02220857e+00,  1.00464301e+00,  2.02551353e+00,\n        3.78275514e-03,  2.04212288e+00,  9.70399696e-01,  1.99940788e+00,\n        9.82281317e-01,  9.91879816e-01,  9.90048955e-01,  1.98988391e+00,\n        9.87699239e-01,  1.00442579e+00,  9.95787594e-01,  9.98827099e-01,\n        9.99130168e-01,  6.62167600e-03,  2.00825545e+00, -7.78659024e-03,\n        3.05029873e-04,  9.99353030e-01,  1.13981680e-02,  1.00085697e+00,\n        1.00976401e+00,  9.91926691e-01, -7.90270691e-03,  9.95611019e-01,\n        9.59069723e-01,  1.60078602e-03,  1.37259311e-02,  1.00875503e+00,\n        9.97849316e-01,  9.90617181e-01,  9.97982555e-01,  1.00670043e+00,\n        1.00032220e+00,  9.86713693e-04,  1.00495725e+00,  2.02869012e+00,\n        1.97792575e+00,  1.17335410e-02,  1.00240777e+00,  1.98803638e+00,\n        1.01017567e+00,  1.98842606e+00,  1.00767730e+00,  1.07432414e+00,\n       -3.88671718e-03,  9.93023726e-01,  9.29147378e-03,  1.00345137e+00,\n        1.00943247e+00,  9.75468812e-01,  1.95777633e+00,  9.36939776e-03,\n        2.00622561e+00,  1.03152151e+00,  9.88423282e-01,  1.00092198e+00,\n        9.96026028e-01, -1.06042070e-02,  9.96856169e-01,  1.00117579e+00,\n        9.92577374e-01,  1.97661515e+00,  1.99691806e+00,  2.26307192e-02,\n       -5.06914053e-03,  1.00160420e+00,  9.96941238e-01,  1.98933816e+00,\n        1.01339701e+00,  2.02264063e+00,  9.88583305e-01,  9.99151554e-01,\n        1.01090716e+00,  9.92108440e-01,  1.99089332e+00,  1.98477634e+00,\n        1.99301036e+00,  1.01411556e+00,  9.91723758e-01,  1.98712209e+00,\n        1.00802203e+00, -4.31231277e-04, -1.92455379e-03, -2.08249052e-03,\n        9.97729457e-01,  1.02879374e+00,  1.00146900e+00,  1.00325416e+00,\n        9.89024903e-01,  1.00606154e+00,  9.84670800e-01,  9.99448359e-01,\n        1.00052136e+00,  1.98707275e+00,  1.00175910e+00,  1.00224807e+00,\n       -3.73575661e-03,  4.03839362e-03,  1.00194350e+00,  2.00779773e+00,\n        1.98075530e+00, -1.80172762e-03,  1.00229142e+00,  9.99287398e-01,\n        9.98396383e-01,  1.00016354e+00,  2.00536559e+00,  2.00845623e+00,\n        1.99208548e+00,  1.47344133e-03,  1.00323413e+00,  1.98441832e+00,\n        1.00492790e+00,  2.02081994e+00,  1.98804660e+00,  2.00125210e+00,\n        1.99935551e+00,  4.25392968e-03,  9.93143161e-01,  9.99322999e-01,\n        1.97795188e-03,  9.96396947e-01,  1.95101143e+00, -5.18668905e-04,\n        2.02413273e+00,  2.00196516e+00,  8.61821877e-03,  3.92898978e-03,\n        9.88407521e-01,  9.97632288e-01,  1.00521740e+00,  1.00100544e+00,\n        9.99748691e-01,  2.01418676e+00,  9.84308776e-01,  5.09550136e-03,\n        2.00467894e+00,  1.00097626e+00,  9.94103062e-01,  9.92763875e-01,\n        1.00741758e+00, -2.14212972e-03,  1.98571180e+00,  9.98131327e-01,\n        1.00701601e+00,  9.88348652e-01,  9.95913840e-01,  9.91464511e-01,\n        1.00021839e+00,  9.89411808e-01,  1.00209189e+00,  2.05284620e+00,\n        1.00168989e+00,  9.93419338e-01,  9.94007925e-01,  1.96938354e+00,\n        1.00525105e+00,  1.95184904e+00,  9.92858121e-01,  2.01500295e+00,\n        1.00825983e+00,  9.99098800e-01,  9.93242879e-01,  1.97396679e+00,\n        1.96129466e+00,  3.95687621e-04,  9.89982621e-01,  1.00166602e+00,\n        1.00658891e+00,  9.84912362e-01,  1.00628693e+00,  9.98015361e-01,\n        1.98456106e+00,  9.94840475e-01,  1.96515257e+00,  1.00076252e+00,\n        1.00168836e+00,  2.01276419e+00,  1.00267910e+00,  1.01878102e+00,\n        1.97546203e+00,  9.88550635e-01,  1.99548463e+00,  2.04656710e+00,\n        1.00420650e+00,  1.00520022e+00,  2.00923198e+00,  5.11372245e-03,\n        2.00186413e+00,  9.95464537e-01,  9.96206989e-01,  2.01701529e+00,\n        1.98874661e+00,  1.01980086e+00,  1.00339524e+00,  1.00340888e+00,\n        9.83706848e-01,  1.01731215e+00,  1.00057319e+00,  2.05585970e+00,\n        2.03707346e+00,  1.00363321e+00,  2.00195360e+00,  9.97508609e-01,\n        9.91460339e-01,  2.01544536e+00,  1.03582603e+00,  9.90633936e-01,\n        1.00671860e+00,  1.00207939e+00,  1.00456132e+00,  1.99677242e+00,\n        9.90777204e-01,  1.98601338e+00,  9.94516490e-01,  1.61789168e-03,\n       -9.13845524e-07,  1.00184584e+00, -6.43438720e-04,  1.00287297e+00,\n        9.95895702e-01,  1.59815063e-02,  1.00125735e+00,  9.97955264e-01,\n        1.04057005e+00,  7.89368826e-03,  2.01693767e+00])"
     },
     "execution_count": 117,
     "metadata": {},
     "output_type": "execute_result"
    }
   ]
  },
  {
   "cell_type": "markdown",
   "source": [
    "\n",
    "```\n",
    "Evalue el mejor modelo de regresión resultante de la búsqueda de hiperparámetros para mostrar su error cuadrático medio\n",
    "```\n",
    "\n"
   ],
   "metadata": {
    "id": "8mTIkri9ig8H"
   }
  },
  {
   "cell_type": "code",
   "source": [
    "# print('mse: {:.2f}'.format(mean_squared_error()))\n",
    "print('mse: {:.2f}'.format(mean_squared_error(Y_test, predictions)))\n",
    "# mse: 0.00\n",
    "\n",
    "# Show new loss curve + accuracy\n",
    "print('Accuracy rate: {:.2f}'.format(grid_search.best_estimator_.score(X_test_scaled, Y_test)))\n",
    "plt.plot(mlp_reg.loss_curve_)\n",
    "plt.title(\"Loss Curve\", fontsize=14)\n",
    "plt.xlabel('Iterations')\n",
    "plt.ylabel('Cost')\n",
    "plt.show()\n"
   ],
   "metadata": {
    "colab": {
     "base_uri": "https://localhost:8080/"
    },
    "id": "h0xsDSATizyH",
    "outputId": "a44da902-fedd-43db-ed5c-c459f5274527",
    "ExecuteTime": {
     "end_time": "2023-06-01T18:27:36.236368Z",
     "start_time": "2023-06-01T18:27:36.064642Z"
    }
   },
   "execution_count": 118,
   "outputs": [
    {
     "name": "stdout",
     "output_type": "stream",
     "text": [
      "mse: 0.00\n",
      "Accuracy rate: 1.00\n"
     ]
    },
    {
     "data": {
      "text/plain": "<Figure size 640x480 with 1 Axes>",
      "image/png": "[encoded data removed]"
     },
     "metadata": {},
     "output_type": "display_data"
    }
   ]
  },
  {
   "cell_type": "markdown",
   "source": [
    "```\n",
    "Visualice la diferencia entre los valores reales y los predichos por la red neuronal\n",
    "```\n",
    "\n"
   ],
   "metadata": {
    "id": "3ZN_zG8xi-eh"
   }
  },
  {
   "cell_type": "code",
   "source": [
    "# pd.DataFrame({'growntruth': <subconjunto de testeo en y>,'predictions': <predicciones>})\n",
    "pd.DataFrame({'growntruth': Y_test, 'predictions': predictions})\n",
    "# Plot this comparison as scatter plot\n",
    "plt.scatter(Y_test, predictions)\n",
    "plt.xlabel('Growntruth')\n",
    "plt.ylabel('Predictions')\n",
    "plt.title('Growntruth vs Predictions')\n",
    "plt.show()"
   ],
   "metadata": {
    "colab": {
     "base_uri": "https://localhost:8080/",
     "height": 447
    },
    "id": "H93spAu3j3ve",
    "outputId": "551c0d6e-bc99-4835-fa92-4c08744408b8",
    "ExecuteTime": {
     "end_time": "2023-06-01T18:27:36.378461Z",
     "start_time": "2023-06-01T18:27:36.234950Z"
    }
   },
   "execution_count": 119,
   "outputs": [
    {
     "data": {
      "text/plain": "<Figure size 640x480 with 1 Axes>",
      "image/png": "[encoded data removed]"
     },
     "metadata": {},
     "output_type": "display_data"
    }
   ]
  },
  {
   "cell_type": "markdown",
   "source": [
    "## Conclusiones\n",
    "\n",
    "```\n",
    "De acuerdo a los resultados de las métricas de evaluación y a las gráficas de matriz de confusión, mencione qué modelo de red neuronal se desempeñó mejor y por qué considera que fue así\n",
    "```\n",
    "\n"
   ],
   "metadata": {
    "id": "W6UKBXOzk-ou"
   }
  },
  {
   "cell_type": "markdown",
   "source": [
    "**With these hypertuned parameters, a rate of 1 was achieved, which says that our model was overtrained with these parameters found. **\n",
    "\n"
   ],
   "metadata": {
    "id": "-OxizFH-leWm"
   }
  }
 ]
}
