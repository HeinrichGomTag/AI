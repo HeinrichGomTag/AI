{
  "nbformat": 4,
  "nbformat_minor": 0,
  "metadata": {
    "colab": {
      "provenance": []
    },
    "kernelspec": {
      "name": "python3",
      "language": "python",
      "display_name": "Python 3 (ipykernel)"
    },
    "language_info": {
      "name": "python"
    }
  },
  "cells": [
    {
      "cell_type": "markdown",
      "source": [
        "# Este archivo es el código base para la parte práctica del examen del tercer parcial de la clase de Inteligencia Artificial\n",
        "\n",
        "## Instrucciones\n",
        "\n",
        "Por favor lea cuidadosamente y codifique lo que se le pida. Las instrucciones se verán de la siguiente manera:\n",
        "```\n",
        "***# Este ese el formato para las instrucciones***\n",
        "```\n",
        "\n",
        "## Entregables\n",
        "\n",
        "Se entrega individualmente un archivo comprimido en Zip que contenga:\n",
        "\n",
        "*   La libreta de Colab (extensión ipynb)\n",
        "*   LA libreta de Colab en formato PDF; use la opción de imprimir para generarlo\n",
        "\n",
        "## Evaluación\n",
        "\n",
        "*   La celda requerida debe ejecutar sin errores: 1 pts\n",
        "*   La celda requerida implementa el código solicitado: 1pts\n",
        "\n",
        "## Código de ética profesional\n",
        "\n",
        "Al entregar este archivo con sus implementaciones, acepta que el trabajo realizado es de su autoría y que de confirmarse lo contrario se anulará su examen."
      ],
      "metadata": {
        "id": "m-t7TcPved01"
      }
    },
    {
      "cell_type": "markdown",
      "source": [
        "\n",
        "```\n",
        "Haga doble clic para editar la celda y llenar los datos correspondientes:\n",
        "```\n",
        "\n",
        "Nombre del estudiante: Enrique Ulises Báez Gómez Tagle\n",
        "\n",
        "Fecha de entrega: 1/06/2023\n",
        "\n",
        "\n"
      ],
      "metadata": {
        "id": "lBLb1A1Rf21h"
      }
    },
    {
      "cell_type": "code",
      "source": [
        "### import the libraries and modules required\n",
        "\n",
        "# libraries to manipulate the data and to visualise it\n",
        "import pandas as pd\n",
        "import numpy as np\n",
        "import matplotlib.pyplot as plt\n",
        "import seaborn as sn\n",
        "# this is the library that contains the NN capabilities\n",
        "import sklearn\n",
        "from sklearn.neural_network import MLPClassifier\n",
        "from sklearn.neural_network import MLPRegressor\n",
        "from sklearn.preprocessing import StandardScaler\n",
        "from sklearn.model_selection import train_test_split\n",
        "# the evaluation metrics for regression\n",
        "from sklearn.metrics import mean_squared_error\n",
        "# for hyper parameter tuning\n",
        "from sklearn.model_selection import GridSearchCV\n",
        "# to meassure the execution time of the neural networks\n",
        "import time"
      ],
      "metadata": {
        "id": "Nh-A0iu4LiGy",
        "ExecuteTime": {
          "end_time": "2023-06-01T18:26:41.067407Z",
          "start_time": "2023-06-01T18:26:40.890784Z"
        }
      },
      "execution_count": 24,
      "outputs": []
    },
    {
      "cell_type": "markdown",
      "source": [
        "## Carga del conjunto de datos"
      ],
      "metadata": {
        "id": "icBxLbYGTGsi"
      }
    },
    {
      "cell_type": "markdown",
      "source": [
        "`Cargue la base de datos gym-1sec.csv y muestre los últimos 5 registos:`"
      ],
      "metadata": {
        "id": "1xD88ZOxHpiX"
      }
    },
    {
      "cell_type": "code",
      "execution_count": 25,
      "metadata": {
        "colab": {
          "base_uri": "https://localhost:8080/",
          "height": 224
        },
        "id": "AmOBkSXPeL7Z",
        "outputId": "80537003-83e7-4fbf-f3ee-5c32cd3041ed",
        "is_executing": true
      },
      "outputs": [
        {
          "output_type": "stream",
          "name": "stdout",
          "text": [
            "Dataset size 6 columns and 10125 rows\n"
          ]
        },
        {
          "output_type": "execute_result",
          "data": {
            "text/plain": [
              "                      date       pre     alt    hum    tem occ\n",
              "10121  2019-09-24 16:17:05  94960.91  543.86  56.44  28.61   M\n",
              "10122  2019-09-24 16:17:06  94958.60  544.06  56.48  28.61   M\n",
              "10123  2019-09-24 16:17:07  94958.60  544.06  56.72  28.63   M\n",
              "10124  2019-09-24 16:17:08  94961.06  543.85  56.99  28.64   M\n",
              "10125  2019-09-24 16:17:09  94958.84  544.04  56.96  28.65   M"
            ],
            "text/html": [
              "\n",
              "  <div id=\"df-58456b64-ad17-4ff9-a40f-a3c4271c2aa3\">\n",
              "    <div class=\"colab-df-container\">\n",
              "      <div>\n",
              "<style scoped>\n",
              "    .dataframe tbody tr th:only-of-type {\n",
              "        vertical-align: middle;\n",
              "    }\n",
              "\n",
              "    .dataframe tbody tr th {\n",
              "        vertical-align: top;\n",
              "    }\n",
              "\n",
              "    .dataframe thead th {\n",
              "        text-align: right;\n",
              "    }\n",
              "</style>\n",
              "<table border=\"1\" class=\"dataframe\">\n",
              "  <thead>\n",
              "    <tr style=\"text-align: right;\">\n",
              "      <th></th>\n",
              "      <th>date</th>\n",
              "      <th>pre</th>\n",
              "      <th>alt</th>\n",
              "      <th>hum</th>\n",
              "      <th>tem</th>\n",
              "      <th>occ</th>\n",
              "    </tr>\n",
              "  </thead>\n",
              "  <tbody>\n",
              "    <tr>\n",
              "      <th>10121</th>\n",
              "      <td>2019-09-24 16:17:05</td>\n",
              "      <td>94960.91</td>\n",
              "      <td>543.86</td>\n",
              "      <td>56.44</td>\n",
              "      <td>28.61</td>\n",
              "      <td>M</td>\n",
              "    </tr>\n",
              "    <tr>\n",
              "      <th>10122</th>\n",
              "      <td>2019-09-24 16:17:06</td>\n",
              "      <td>94958.60</td>\n",
              "      <td>544.06</td>\n",
              "      <td>56.48</td>\n",
              "      <td>28.61</td>\n",
              "      <td>M</td>\n",
              "    </tr>\n",
              "    <tr>\n",
              "      <th>10123</th>\n",
              "      <td>2019-09-24 16:17:07</td>\n",
              "      <td>94958.60</td>\n",
              "      <td>544.06</td>\n",
              "      <td>56.72</td>\n",
              "      <td>28.63</td>\n",
              "      <td>M</td>\n",
              "    </tr>\n",
              "    <tr>\n",
              "      <th>10124</th>\n",
              "      <td>2019-09-24 16:17:08</td>\n",
              "      <td>94961.06</td>\n",
              "      <td>543.85</td>\n",
              "      <td>56.99</td>\n",
              "      <td>28.64</td>\n",
              "      <td>M</td>\n",
              "    </tr>\n",
              "    <tr>\n",
              "      <th>10125</th>\n",
              "      <td>2019-09-24 16:17:09</td>\n",
              "      <td>94958.84</td>\n",
              "      <td>544.04</td>\n",
              "      <td>56.96</td>\n",
              "      <td>28.65</td>\n",
              "      <td>M</td>\n",
              "    </tr>\n",
              "  </tbody>\n",
              "</table>\n",
              "</div>\n",
              "      <button class=\"colab-df-convert\" onclick=\"convertToInteractive('df-58456b64-ad17-4ff9-a40f-a3c4271c2aa3')\"\n",
              "              title=\"Convert this dataframe to an interactive table.\"\n",
              "              style=\"display:none;\">\n",
              "        \n",
              "  <svg xmlns=\"http://www.w3.org/2000/svg\" height=\"24px\"viewBox=\"0 0 24 24\"\n",
              "       width=\"24px\">\n",
              "    <path d=\"M0 0h24v24H0V0z\" fill=\"none\"/>\n",
              "    <path d=\"M18.56 5.44l.94 2.06.94-2.06 2.06-.94-2.06-.94-.94-2.06-.94 2.06-2.06.94zm-11 1L8.5 8.5l.94-2.06 2.06-.94-2.06-.94L8.5 2.5l-.94 2.06-2.06.94zm10 10l.94 2.06.94-2.06 2.06-.94-2.06-.94-.94-2.06-.94 2.06-2.06.94z\"/><path d=\"M17.41 7.96l-1.37-1.37c-.4-.4-.92-.59-1.43-.59-.52 0-1.04.2-1.43.59L10.3 9.45l-7.72 7.72c-.78.78-.78 2.05 0 2.83L4 21.41c.39.39.9.59 1.41.59.51 0 1.02-.2 1.41-.59l7.78-7.78 2.81-2.81c.8-.78.8-2.07 0-2.86zM5.41 20L4 18.59l7.72-7.72 1.47 1.35L5.41 20z\"/>\n",
              "  </svg>\n",
              "      </button>\n",
              "      \n",
              "  <style>\n",
              "    .colab-df-container {\n",
              "      display:flex;\n",
              "      flex-wrap:wrap;\n",
              "      gap: 12px;\n",
              "    }\n",
              "\n",
              "    .colab-df-convert {\n",
              "      background-color: #E8F0FE;\n",
              "      border: none;\n",
              "      border-radius: 50%;\n",
              "      cursor: pointer;\n",
              "      display: none;\n",
              "      fill: #1967D2;\n",
              "      height: 32px;\n",
              "      padding: 0 0 0 0;\n",
              "      width: 32px;\n",
              "    }\n",
              "\n",
              "    .colab-df-convert:hover {\n",
              "      background-color: #E2EBFA;\n",
              "      box-shadow: 0px 1px 2px rgba(60, 64, 67, 0.3), 0px 1px 3px 1px rgba(60, 64, 67, 0.15);\n",
              "      fill: #174EA6;\n",
              "    }\n",
              "\n",
              "    [theme=dark] .colab-df-convert {\n",
              "      background-color: #3B4455;\n",
              "      fill: #D2E3FC;\n",
              "    }\n",
              "\n",
              "    [theme=dark] .colab-df-convert:hover {\n",
              "      background-color: #434B5C;\n",
              "      box-shadow: 0px 1px 3px 1px rgba(0, 0, 0, 0.15);\n",
              "      filter: drop-shadow(0px 1px 2px rgba(0, 0, 0, 0.3));\n",
              "      fill: #FFFFFF;\n",
              "    }\n",
              "  </style>\n",
              "\n",
              "      <script>\n",
              "        const buttonEl =\n",
              "          document.querySelector('#df-58456b64-ad17-4ff9-a40f-a3c4271c2aa3 button.colab-df-convert');\n",
              "        buttonEl.style.display =\n",
              "          google.colab.kernel.accessAllowed ? 'block' : 'none';\n",
              "\n",
              "        async function convertToInteractive(key) {\n",
              "          const element = document.querySelector('#df-58456b64-ad17-4ff9-a40f-a3c4271c2aa3');\n",
              "          const dataTable =\n",
              "            await google.colab.kernel.invokeFunction('convertToInteractive',\n",
              "                                                     [key], {});\n",
              "          if (!dataTable) return;\n",
              "\n",
              "          const docLinkHtml = 'Like what you see? Visit the ' +\n",
              "            '<a target=\"_blank\" href=https://colab.research.google.com/notebooks/data_table.ipynb>data table notebook</a>'\n",
              "            + ' to learn more about interactive tables.';\n",
              "          element.innerHTML = '';\n",
              "          dataTable['output_type'] = 'display_data';\n",
              "          await google.colab.output.renderOutput(dataTable, element);\n",
              "          const docLink = document.createElement('div');\n",
              "          docLink.innerHTML = docLinkHtml;\n",
              "          element.appendChild(docLink);\n",
              "        }\n",
              "      </script>\n",
              "    </div>\n",
              "  </div>\n",
              "  "
            ]
          },
          "metadata": {},
          "execution_count": 25
        }
      ],
      "source": [
        "# pd.read_csv()\n",
        "df = pd.read_csv(filepath_or_buffer='gym-1sec.csv', sep=',')\n",
        "df.index = np.arange(1, len(df) + 1)\n",
        "print('Dataset size {} columns and {} rows'.format(df.shape[1], df.shape[0]))\n",
        "df.tail()"
      ]
    },
    {
      "cell_type": "markdown",
      "source": [
        "```\n",
        "Visualice la cantidad de datos que hay en cada una de los differentes valores de la característica (feature) nivel de occupación.\n",
        "\n",
        "La descripción de las variables es como sigue de izquierda a derecha:\n",
        "\n",
        "*   Fecha de registro\n",
        "*   Presión barométrica en hecto-pascal\n",
        "*   Altura relativa desde el nivel del mar en metros\n",
        "*   Humedad relativa en porcentaje\n",
        "*   Temperatura en grados celcius\n",
        "*   Nivel de ocupación en etiquetas\n",
        "```\n",
        "\n"
      ],
      "metadata": {
        "id": "GHiuUAikMBZV"
      }
    },
    {
      "cell_type": "code",
      "source": [
        "# <mi conjunto de datos>.groupby('mi variable de interés').size()\n",
        "df.groupby('occ').size()"
      ],
      "metadata": {
        "id": "UOCaDd6LMB4y",
        "ExecuteTime": {
          "end_time": "2023-06-01T18:26:41.159075Z",
          "start_time": "2023-06-01T18:26:40.925732Z"
        },
        "outputId": "0492cdf3-7c49-4af7-a8cb-6159db4b4189",
        "colab": {
          "base_uri": "https://localhost:8080/"
        }
      },
      "execution_count": 26,
      "outputs": [
        {
          "output_type": "execute_result",
          "data": {
            "text/plain": [
              "occ\n",
              "H    2358\n",
              "L    2442\n",
              "M    5325\n",
              "dtype: int64"
            ]
          },
          "metadata": {},
          "execution_count": 26
        }
      ]
    },
    {
      "cell_type": "markdown",
      "source": [
        "```\n",
        "Utilice el análisis de los 5 números para visualizar la descripción del cconjunto de datos\n",
        "```\n",
        "\n"
      ],
      "metadata": {
        "id": "Xx-FyOLnN7f2"
      }
    },
    {
      "cell_type": "code",
      "source": [
        "# .describe()\n",
        "df.describe()"
      ],
      "metadata": {
        "colab": {
          "base_uri": "https://localhost:8080/",
          "height": 300
        },
        "id": "gwKSLykfN3eg",
        "outputId": "8fcb3a6d-dc4b-4aae-e548-80df7df1ced6",
        "ExecuteTime": {
          "end_time": "2023-06-01T18:26:41.160132Z",
          "start_time": "2023-06-01T18:26:40.932011Z"
        }
      },
      "execution_count": 27,
      "outputs": [
        {
          "output_type": "execute_result",
          "data": {
            "text/plain": [
              "                pre           alt           hum           tem\n",
              "count  10125.000000  10125.000000  10125.000000  10125.000000\n",
              "mean   95171.915784    525.373692     56.746984     27.808434\n",
              "std      169.404796     14.839785      2.293076      0.820957\n",
              "min    94893.870000    501.210000     50.660000     25.880000\n",
              "25%    95000.700000    509.410000     55.390000     27.210000\n",
              "50%    95230.360000    520.240000     56.400000     27.490000\n",
              "75%    95354.250000    540.370000     58.620000     28.510000\n",
              "max    95447.960000    549.790000     65.390000     29.970000"
            ],
            "text/html": [
              "\n",
              "  <div id=\"df-74b79bc4-2f31-44e8-b91a-80c7c54580ff\">\n",
              "    <div class=\"colab-df-container\">\n",
              "      <div>\n",
              "<style scoped>\n",
              "    .dataframe tbody tr th:only-of-type {\n",
              "        vertical-align: middle;\n",
              "    }\n",
              "\n",
              "    .dataframe tbody tr th {\n",
              "        vertical-align: top;\n",
              "    }\n",
              "\n",
              "    .dataframe thead th {\n",
              "        text-align: right;\n",
              "    }\n",
              "</style>\n",
              "<table border=\"1\" class=\"dataframe\">\n",
              "  <thead>\n",
              "    <tr style=\"text-align: right;\">\n",
              "      <th></th>\n",
              "      <th>pre</th>\n",
              "      <th>alt</th>\n",
              "      <th>hum</th>\n",
              "      <th>tem</th>\n",
              "    </tr>\n",
              "  </thead>\n",
              "  <tbody>\n",
              "    <tr>\n",
              "      <th>count</th>\n",
              "      <td>10125.000000</td>\n",
              "      <td>10125.000000</td>\n",
              "      <td>10125.000000</td>\n",
              "      <td>10125.000000</td>\n",
              "    </tr>\n",
              "    <tr>\n",
              "      <th>mean</th>\n",
              "      <td>95171.915784</td>\n",
              "      <td>525.373692</td>\n",
              "      <td>56.746984</td>\n",
              "      <td>27.808434</td>\n",
              "    </tr>\n",
              "    <tr>\n",
              "      <th>std</th>\n",
              "      <td>169.404796</td>\n",
              "      <td>14.839785</td>\n",
              "      <td>2.293076</td>\n",
              "      <td>0.820957</td>\n",
              "    </tr>\n",
              "    <tr>\n",
              "      <th>min</th>\n",
              "      <td>94893.870000</td>\n",
              "      <td>501.210000</td>\n",
              "      <td>50.660000</td>\n",
              "      <td>25.880000</td>\n",
              "    </tr>\n",
              "    <tr>\n",
              "      <th>25%</th>\n",
              "      <td>95000.700000</td>\n",
              "      <td>509.410000</td>\n",
              "      <td>55.390000</td>\n",
              "      <td>27.210000</td>\n",
              "    </tr>\n",
              "    <tr>\n",
              "      <th>50%</th>\n",
              "      <td>95230.360000</td>\n",
              "      <td>520.240000</td>\n",
              "      <td>56.400000</td>\n",
              "      <td>27.490000</td>\n",
              "    </tr>\n",
              "    <tr>\n",
              "      <th>75%</th>\n",
              "      <td>95354.250000</td>\n",
              "      <td>540.370000</td>\n",
              "      <td>58.620000</td>\n",
              "      <td>28.510000</td>\n",
              "    </tr>\n",
              "    <tr>\n",
              "      <th>max</th>\n",
              "      <td>95447.960000</td>\n",
              "      <td>549.790000</td>\n",
              "      <td>65.390000</td>\n",
              "      <td>29.970000</td>\n",
              "    </tr>\n",
              "  </tbody>\n",
              "</table>\n",
              "</div>\n",
              "      <button class=\"colab-df-convert\" onclick=\"convertToInteractive('df-74b79bc4-2f31-44e8-b91a-80c7c54580ff')\"\n",
              "              title=\"Convert this dataframe to an interactive table.\"\n",
              "              style=\"display:none;\">\n",
              "        \n",
              "  <svg xmlns=\"http://www.w3.org/2000/svg\" height=\"24px\"viewBox=\"0 0 24 24\"\n",
              "       width=\"24px\">\n",
              "    <path d=\"M0 0h24v24H0V0z\" fill=\"none\"/>\n",
              "    <path d=\"M18.56 5.44l.94 2.06.94-2.06 2.06-.94-2.06-.94-.94-2.06-.94 2.06-2.06.94zm-11 1L8.5 8.5l.94-2.06 2.06-.94-2.06-.94L8.5 2.5l-.94 2.06-2.06.94zm10 10l.94 2.06.94-2.06 2.06-.94-2.06-.94-.94-2.06-.94 2.06-2.06.94z\"/><path d=\"M17.41 7.96l-1.37-1.37c-.4-.4-.92-.59-1.43-.59-.52 0-1.04.2-1.43.59L10.3 9.45l-7.72 7.72c-.78.78-.78 2.05 0 2.83L4 21.41c.39.39.9.59 1.41.59.51 0 1.02-.2 1.41-.59l7.78-7.78 2.81-2.81c.8-.78.8-2.07 0-2.86zM5.41 20L4 18.59l7.72-7.72 1.47 1.35L5.41 20z\"/>\n",
              "  </svg>\n",
              "      </button>\n",
              "      \n",
              "  <style>\n",
              "    .colab-df-container {\n",
              "      display:flex;\n",
              "      flex-wrap:wrap;\n",
              "      gap: 12px;\n",
              "    }\n",
              "\n",
              "    .colab-df-convert {\n",
              "      background-color: #E8F0FE;\n",
              "      border: none;\n",
              "      border-radius: 50%;\n",
              "      cursor: pointer;\n",
              "      display: none;\n",
              "      fill: #1967D2;\n",
              "      height: 32px;\n",
              "      padding: 0 0 0 0;\n",
              "      width: 32px;\n",
              "    }\n",
              "\n",
              "    .colab-df-convert:hover {\n",
              "      background-color: #E2EBFA;\n",
              "      box-shadow: 0px 1px 2px rgba(60, 64, 67, 0.3), 0px 1px 3px 1px rgba(60, 64, 67, 0.15);\n",
              "      fill: #174EA6;\n",
              "    }\n",
              "\n",
              "    [theme=dark] .colab-df-convert {\n",
              "      background-color: #3B4455;\n",
              "      fill: #D2E3FC;\n",
              "    }\n",
              "\n",
              "    [theme=dark] .colab-df-convert:hover {\n",
              "      background-color: #434B5C;\n",
              "      box-shadow: 0px 1px 3px 1px rgba(0, 0, 0, 0.15);\n",
              "      filter: drop-shadow(0px 1px 2px rgba(0, 0, 0, 0.3));\n",
              "      fill: #FFFFFF;\n",
              "    }\n",
              "  </style>\n",
              "\n",
              "      <script>\n",
              "        const buttonEl =\n",
              "          document.querySelector('#df-74b79bc4-2f31-44e8-b91a-80c7c54580ff button.colab-df-convert');\n",
              "        buttonEl.style.display =\n",
              "          google.colab.kernel.accessAllowed ? 'block' : 'none';\n",
              "\n",
              "        async function convertToInteractive(key) {\n",
              "          const element = document.querySelector('#df-74b79bc4-2f31-44e8-b91a-80c7c54580ff');\n",
              "          const dataTable =\n",
              "            await google.colab.kernel.invokeFunction('convertToInteractive',\n",
              "                                                     [key], {});\n",
              "          if (!dataTable) return;\n",
              "\n",
              "          const docLinkHtml = 'Like what you see? Visit the ' +\n",
              "            '<a target=\"_blank\" href=https://colab.research.google.com/notebooks/data_table.ipynb>data table notebook</a>'\n",
              "            + ' to learn more about interactive tables.';\n",
              "          element.innerHTML = '';\n",
              "          dataTable['output_type'] = 'display_data';\n",
              "          await google.colab.output.renderOutput(dataTable, element);\n",
              "          const docLink = document.createElement('div');\n",
              "          docLink.innerHTML = docLinkHtml;\n",
              "          element.appendChild(docLink);\n",
              "        }\n",
              "      </script>\n",
              "    </div>\n",
              "  </div>\n",
              "  "
            ]
          },
          "metadata": {},
          "execution_count": 27
        }
      ]
    },
    {
      "cell_type": "markdown",
      "source": [
        "## Visualización de los datos"
      ],
      "metadata": {
        "id": "NC_mHmInTVKp"
      }
    },
    {
      "cell_type": "markdown",
      "source": [
        "```\n",
        "Modifique el siguiente código para visualizar la temperatura de la sala de todos los niveles de ocupación (en el eje y) respecto a la altura (en el eje x)\n",
        "\n",
        "Nombre la gráfiica adecuadamente a los datos que se muestran\n",
        "```\n",
        "\n"
      ],
      "metadata": {
        "id": "5EAHIG5oOU_K"
      }
    },
    {
      "cell_type": "code",
      "source": [
        "# l = <mi conjunto de datos>[<mi conjunto de datos>.<variable de nivel de ocupación> == \"valor de la variable de ocupación\"]\n",
        "# EN LUGAR DE NIVEL DE OCUPACION SI ES TEMPERATURA EN Y\n",
        "y = df['tem']\n",
        "x = df['alt']\n",
        "\n",
        "fig, ax = plt.subplots()\n",
        "fig.set_size_inches(13, 7)\n",
        "\n",
        "# ax.scatter(l['variable en el eje x'], l['variable en el eje y'], label=\"etiqueta de los valores\", facecolor=\"blue\")\n",
        "ax.scatter(x, y, label=\"Temperatura\", facecolor=\"blue\")\n",
        "\n",
        "ax.set_xlabel(\"Altura\")\n",
        "ax.set_ylabel(\"Temperatura\")\n",
        "ax.grid()\n",
        "# ax.set_title(\"Un título que corresponda con mi gráfica\")\n",
        "ax.set_title(\"Altura vs Temperatura\")\n",
        "ax.legend()\n",
        "\n",
        "plt.show()"
      ],
      "metadata": {
        "colab": {
          "base_uri": "https://localhost:8080/",
          "height": 641
        },
        "id": "tS4cmTj8OUGy",
        "outputId": "6487543f-7c1c-4525-dcee-7434252308c7",
        "ExecuteTime": {
          "end_time": "2023-06-01T18:26:41.180469Z",
          "start_time": "2023-06-01T18:26:40.948818Z"
        }
      },
      "execution_count": 28,
      "outputs": [
        {
          "output_type": "display_data",
          "data": {
            "text/plain": [
              "<Figure size 1300x700 with 1 Axes>"
            ],
            "image/png": "[encoded data removed]"
          },
          "metadata": {}
        }
      ]
    },
    {
      "cell_type": "markdown",
      "source": [
        "## Generación del conjunto de datos de entrenamiento y testeo"
      ],
      "metadata": {
        "id": "5gkEkFc4TZ-N"
      }
    },
    {
      "cell_type": "markdown",
      "source": [
        "```\n",
        "Utilice la siguiente función para hacer la codificación a formato numérico de los diferentes valores de la variable de interés\n",
        "```\n",
        "\n"
      ],
      "metadata": {
        "id": "ykyHUPHbBLbQ"
      }
    },
    {
      "cell_type": "code",
      "source": [
        "def coder(feature):\n",
        "    if feature == 'L':\n",
        "        return 0\n",
        "    elif feature == 'M':\n",
        "        return 1\n",
        "    else:\n",
        "        return 2\n",
        "\n",
        "# <mi conjunto de datos>['variable de interés'] = <mi conjunto de datos>['variable de interés'].apply(coder)\n",
        "df['occ'] = df['occ'].apply(coder)"
      ],
      "metadata": {
        "id": "DAW8q5SuBKd4",
        "ExecuteTime": {
          "end_time": "2023-06-01T18:26:41.180720Z",
          "start_time": "2023-06-01T18:26:41.099663Z"
        }
      },
      "execution_count": 29,
      "outputs": []
    },
    {
      "cell_type": "markdown",
      "source": [
        "```\n",
        "Genere los conjuntos de datos de entrenamiento y testeo de la siguiente manera:\n",
        "\n",
        "*   El conjunto de testeo debe ser el 5% aleatorio del conjunto de datos total\n",
        "*   Para el conjunto de entrenamiento, utilice todas las variables/características del conjunto de datos con excepción de:\n",
        " 'date' y 'occ'\n",
        "*   Seleccione la varible de nivel de ocupación como la variable/característica de interés para hacer la regresion\n",
        "```\n",
        "\n"
      ],
      "metadata": {
        "id": "3jvbOJaiP4gb"
      }
    },
    {
      "cell_type": "code",
      "source": [
        "# X will be our dataset without the feature of interest\n",
        "# X = <mi conjunto de datos>.drop(['mis variables que no son de interés'], axis=1)\n",
        "X = df.drop(['date', 'occ'], axis=1)\n",
        "\n",
        "# converting into numpy array and # FIXME: assigning petal length and petal width (not about flowers)\n",
        "X = np.array(X)\n",
        "\n",
        "# y will be our dataset with the feature of interest\n",
        "# y = <mi conjunto de datos>['mi variable de interés']\n",
        "Y = df['occ']\n",
        "\n",
        "# VALIDATE SHAPES\n",
        "print('X shape: {}'.format(X.shape))\n",
        "print('Y shape: {}'.format(Y.shape))\n",
        "\n",
        "# Splitting into train and test\n",
        "# <mis subconjuntos de entrenamiento y testeo> = train_test_split(X,y,test_size=0.5,random_state=42)\n",
        "X_train, X_test, Y_train, Y_test = train_test_split(X, Y, test_size=0.05, random_state=42)"
      ],
      "metadata": {
        "id": "1ZdnZvtrP4O_",
        "ExecuteTime": {
          "end_time": "2023-06-01T18:26:41.180942Z",
          "start_time": "2023-06-01T18:26:41.107891Z"
        },
        "outputId": "d2d32746-cccc-4a28-fea5-e80100c36b55",
        "colab": {
          "base_uri": "https://localhost:8080/"
        }
      },
      "execution_count": 30,
      "outputs": [
        {
          "output_type": "stream",
          "name": "stdout",
          "text": [
            "X shape: (10125, 4)\n",
            "Y shape: (10125,)\n"
          ]
        }
      ]
    },
    {
      "cell_type": "markdown",
      "source": [
        "## Escalamiento"
      ],
      "metadata": {
        "id": "-8moAmtMTg4B"
      }
    },
    {
      "cell_type": "markdown",
      "source": [
        "```\n",
        "Si es necesario escalar los datos hágalo; en caso contrario, escribir no es necesario escalar los datos en la celda como comentario\n",
        "```\n",
        "\n"
      ],
      "metadata": {
        "id": "mOEQ3hB2Sd_i"
      }
    },
    {
      "cell_type": "code",
      "source": [
        "print('Min values of the dataset are: \\n{}'.format(df.min()))\n",
        "print('Max values of the dataset are: \\n{}'.format(df.max()))\n",
        "\n",
        "# Determine if the data needs to be scaled\n",
        "scaler = StandardScaler()\n",
        "scaler.fit(X_train)\n",
        "X_train_scaled = scaler.transform(X_train)\n",
        "X_test_scaled = scaler.transform(X_test)\n",
        "\n",
        "print('Min values of the dataset are: \\n{}'.format(X_train_scaled.min(axis=0)))\n",
        "print('Max values of the dataset are: \\n{}'.format(X_train_scaled.max(axis=0)))\n",
        "\n",
        "print('Min values of the dataset are: \\n{}'.format(X_test_scaled.min()))\n",
        "print('Max values of the dataset are: \\n{}'.format(X_test_scaled.max()))"
      ],
      "metadata": {
        "id": "WN9gezDjScH2",
        "ExecuteTime": {
          "end_time": "2023-06-01T18:26:41.181072Z",
          "start_time": "2023-06-01T18:26:41.115771Z"
        },
        "outputId": "428219a0-e7c0-4c34-8eb8-156a0d46c4e3",
        "colab": {
          "base_uri": "https://localhost:8080/"
        }
      },
      "execution_count": 31,
      "outputs": [
        {
          "output_type": "stream",
          "name": "stdout",
          "text": [
            "Min values of the dataset are: \n",
            "date    2019-09-18 19:04:00\n",
            "pre                94893.87\n",
            "alt                  501.21\n",
            "hum                   50.66\n",
            "tem                   25.88\n",
            "occ                       0\n",
            "dtype: object\n",
            "Max values of the dataset are: \n",
            "date    2019-10-02 20:48:58\n",
            "pre                95447.96\n",
            "alt                  549.79\n",
            "hum                   65.39\n",
            "tem                   29.97\n",
            "occ                       2\n",
            "dtype: object\n",
            "Min values of the dataset are: \n",
            "[-1.64809243 -1.629142   -2.64754226 -2.35274138]\n",
            "Max values of the dataset are: \n",
            "[1.63033299 1.65211843 3.76547249 2.63974148]\n",
            "Min values of the dataset are: \n",
            "-2.328328262015973\n",
            "Max values of the dataset are: \n",
            "3.0384029274199404\n"
          ]
        }
      ]
    },
    {
      "cell_type": "markdown",
      "source": [
        "## Regresion"
      ],
      "metadata": {
        "id": "jQMB6lhUTlQ8"
      }
    },
    {
      "cell_type": "markdown",
      "source": [
        "### Definición del modelo"
      ],
      "metadata": {
        "id": "Nn9p2LZ0_yN2"
      }
    },
    {
      "cell_type": "markdown",
      "source": [
        "```\n",
        "Defina un modelo de red neuronal con las siguientes características:\n",
        "\n",
        "*   4 capas en total\n",
        "*   La capa de salida debe tener el mimso número de neuronas que el número de resultados esperados por cada renglón/predicción\n",
        "*   La capa de entrada debe tener el mismo número de neuroas que el número de niveles de ocupacón\n",
        "*   La primer capa intermedia debe tener el número de neuronas igual al número de características/variables del conjunto de datos de entrenamiento\n",
        "*   La segunda capa intermedia debe tener la mitad de neuronas que la capa anterior\n",
        "*   Un máximo número de iteraciones del número de clases/tipos de nivel de ocupación multiplicado por 100\n",
        "*   Usar la función de activación tangente hiperbólica\n",
        "*   Usar el solucionador adam\n",
        "```\n",
        "\n"
      ],
      "metadata": {
        "id": "JMS9ZzmbToV3"
      }
    },
    {
      "cell_type": "code",
      "source": [
        "# MLPRegressor(\n",
        "#     activation = 'adam',\n",
        "#     solver = 'tanh'\n",
        "# )\n",
        "\n",
        "from sklearn.neural_network import MLPRegressor\n",
        "\n",
        "# Number of features and expected results\n",
        "feature_num = X_train.shape[1]\n",
        "exp_res_num = len(Y_train.unique())\n",
        "\n",
        "mlp_reg = MLPRegressor(hidden_layer_sizes=(feature_num, feature_num // 2),\n",
        "                       activation='tanh', solver='adam',\n",
        "                       max_iter=exp_res_num * 100, random_state=42)\n"
      ],
      "metadata": {
        "id": "I6-LDaidS_xU",
        "ExecuteTime": {
          "end_time": "2023-06-01T18:26:41.181128Z",
          "start_time": "2023-06-01T18:26:41.124671Z"
        }
      },
      "execution_count": 32,
      "outputs": []
    },
    {
      "cell_type": "markdown",
      "source": [
        "### Entrenamiento\n",
        "\n",
        "```\n",
        "Entrene el modelo definido con anterioridad y muestrer su tiempo de ejecución en segundos\n",
        "```\n",
        "**Importante:** esto puede tomar aproximadamente unos 5 minutos\n",
        "\n"
      ],
      "metadata": {
        "id": "0zjg5d59WdW2"
      }
    },
    {
      "cell_type": "code",
      "source": [
        "# <mi modelo de regresión>.fit(<subconjunto de entrenamiento en x>, <subconjunto de entrenamiento en y>)\n",
        "start_time = time.time()\n",
        "mlp_reg.fit(X_train_scaled, Y_train)\n",
        "end_time = time.time()\n",
        "print('Time elapsed on training: {:.2f} seconds'.format(end_time - start_time))\n",
        "# 5.708560466766357"
      ],
      "metadata": {
        "colab": {
          "base_uri": "https://localhost:8080/"
        },
        "id": "Cbr6burBWaKG",
        "outputId": "b11682f6-7b98-43ee-8f13-cccff38fb1d3",
        "ExecuteTime": {
          "end_time": "2023-06-01T18:26:42.190508Z",
          "start_time": "2023-06-01T18:26:41.128681Z"
        }
      },
      "execution_count": 33,
      "outputs": [
        {
          "output_type": "stream",
          "name": "stdout",
          "text": [
            "Time elapsed on training: 3.40 seconds\n"
          ]
        }
      ]
    },
    {
      "cell_type": "markdown",
      "source": [
        "### Testeo y evaluación del modelo\n",
        "\n",
        "```\n",
        "Utilice el modelo entrenado para hacer la regresión de los datos de testeo\n",
        "```\n",
        "\n"
      ],
      "metadata": {
        "id": "9jOPyFNG_6wd"
      }
    },
    {
      "cell_type": "code",
      "source": [
        "# <mi modelo de regresión>g.predict()\n",
        "predictions = mlp_reg.predict(X_test_scaled)\n",
        "print(predictions)\n",
        "# array([1.99312555, 0.32425411, 1.03872412, ..., 1.956635  , 0.26321265,\n",
        "# 1.17075748])"
      ],
      "metadata": {
        "colab": {
          "base_uri": "https://localhost:8080/"
        },
        "id": "cApLy6-qAQAu",
        "outputId": "de67887a-500b-40db-b297-d8a1a609636a",
        "ExecuteTime": {
          "end_time": "2023-06-01T18:26:42.196411Z",
          "start_time": "2023-06-01T18:26:42.192157Z"
        }
      },
      "execution_count": 34,
      "outputs": [
        {
          "output_type": "stream",
          "name": "stdout",
          "text": [
            "[ 1.01124267e+00  1.64057837e+00  1.62874399e-02  7.68083537e-02\n",
            "  9.78846535e-01  1.04209992e+00 -2.81349318e-02 -2.82786495e-02\n",
            "  9.49068851e-01  1.04590951e+00  9.78715542e-01  1.73050773e+00\n",
            "  1.04390030e+00  1.57429310e-02 -1.96071891e-02  1.12301658e+00\n",
            "  1.05362677e+00 -2.54991193e-02  1.05308691e+00  1.06319763e+00\n",
            "  2.00546401e+00 -1.53565032e-02 -3.34945665e-02  2.03568247e+00\n",
            "  1.02158770e+00  9.79957726e-01  1.84733515e+00  1.04740516e+00\n",
            "  9.78963106e-01 -3.89230675e-02  1.02961074e+00 -1.97420022e-02\n",
            "  2.15252847e+00  1.11265248e+00  1.05338044e+00  2.04176553e+00\n",
            "  9.98031476e-01 -1.19470197e-02  1.89394998e+00  9.37246838e-01\n",
            "  1.05087501e+00  9.91835299e-01 -2.06053195e-02  9.79122547e-01\n",
            "  1.72161791e+00 -1.35202436e-02 -3.49067418e-02  1.85150494e+00\n",
            "  2.04360786e+00  9.31867137e-01 -2.85167130e-02  1.05478170e+00\n",
            "  1.05230005e+00  1.02364215e+00  1.05510915e+00  1.02368094e+00\n",
            "  1.00295458e+00 -1.81532760e-02  9.66341345e-01  3.50859823e-02\n",
            "  1.04362455e+00  1.05039034e+00  1.00477310e+00  7.28661016e-01\n",
            "  1.01648795e+00 -2.47533862e-02  1.05170812e+00 -5.04557150e-03\n",
            " -1.77092153e-02  2.00853289e+00  9.79036890e-01  1.04320814e+00\n",
            "  9.79330643e-01  1.12968252e+00  1.02846623e+00  1.05620102e+00\n",
            "  2.10636788e+00 -1.06521654e-02 -6.56343451e-03  9.00840688e-01\n",
            " -2.04844091e-02  2.11532190e-01  1.14774441e-01  9.05781351e-01\n",
            "  2.05121216e+00  1.02620353e+00 -1.65467133e-03  1.01743493e+00\n",
            "  1.47931006e-01  1.04023144e+00  9.79838879e-01  2.04995619e+00\n",
            " -1.96415253e-02  1.84618187e-01  9.79246757e-01 -3.08385549e-02\n",
            "  2.04405930e+00  9.79083044e-01  1.04768115e+00  7.31310108e-02\n",
            "  1.04761564e+00  9.82221145e-01  9.58541048e-02  2.08423261e+00\n",
            "  9.54727844e-01  9.79098277e-01  2.05811352e+00  1.05381402e+00\n",
            "  9.79312015e-01  2.32035825e-01  9.98498292e-01  9.95052984e-01\n",
            "  1.94989372e+00  1.25552693e+00  1.04120013e+00  2.09804418e+00\n",
            "  1.90198194e+00  2.12483100e+00  8.44271821e-01  1.06669988e+00\n",
            "  1.01374155e+00  1.02983457e+00  1.88500803e+00  9.58319622e-01\n",
            "  8.92025237e-01  9.78880051e-01  1.10998481e+00  1.05052876e+00\n",
            "  2.08334314e+00 -2.92056701e-02  9.79451920e-01  3.02152138e-02\n",
            "  9.31463502e-01  2.03009605e+00  9.86071188e-01  2.07988564e+00\n",
            "  1.02938534e+00 -2.36547367e-02  1.10553186e+00  9.79155151e-01\n",
            " -2.02914624e-02  1.14636416e+00  9.76305298e-01  9.82273478e-01\n",
            "  1.04202456e+00  2.03094208e+00  9.84492510e-01  2.01824323e+00\n",
            "  2.06825174e+00  1.04770619e+00  1.07514196e-01  2.11692114e+00\n",
            "  1.03151493e+00  1.36991848e-02  1.03656130e+00  2.05383330e+00\n",
            "  9.57238884e-01  8.94729008e-01  9.79779041e-01  2.09595685e+00\n",
            "  9.78987738e-01  1.02071146e+00  9.68252705e-01  1.61287151e+00\n",
            " -2.24950610e-02  1.06921589e+00  1.99413513e+00 -3.10198246e-02\n",
            "  2.09587144e+00  1.76315714e+00 -1.86218291e-02  3.73301650e-01\n",
            " -3.28952083e-02  2.10163154e+00  1.02418169e+00 -2.97223412e-02\n",
            "  1.99895046e+00  2.05141089e+00  1.65720036e+00  1.09878770e+00\n",
            "  2.10603850e-01  1.02763175e+00  1.23770029e+00  1.95461747e+00\n",
            "  4.15052413e-02 -3.70280995e-02  2.09895966e+00  9.60723419e-01\n",
            "  1.05480983e+00  1.24724996e+00  9.84367903e-01  9.84982209e-01\n",
            "  1.21529590e+00  1.05619340e+00  1.14023418e+00  2.15489641e+00\n",
            "  9.79757014e-01  1.92603411e+00  9.78962911e-01  1.03927094e+00\n",
            "  8.92699402e-01  1.04339202e+00  1.05499473e+00  1.86395778e+00\n",
            "  1.04049417e+00 -1.62035091e-02  2.62689326e-01  1.04647825e+00\n",
            " -3.47972740e-02  1.94525714e+00  2.04488870e+00  1.35763016e+00\n",
            "  1.92516697e+00  1.04734066e+00  9.12234492e-02 -1.68297663e-02\n",
            "  9.79320135e-01  9.78964017e-01 -1.78815200e-02  4.03158348e-02\n",
            "  9.55905879e-01  1.05805729e+00  1.64826466e+00  9.78571334e-01\n",
            "  1.94055047e+00  2.04591521e+00  9.75879340e-01  1.04507087e+00\n",
            "  9.16315884e-01  1.05520216e+00  9.78091782e-01  9.48811484e-01\n",
            "  8.85588445e-01  2.03537177e+00  3.02065600e-01  9.79410953e-01\n",
            "  2.10239603e+00  2.08953256e+00  2.03940993e+00  1.98740940e+00\n",
            "  1.01383350e+00  9.79650556e-01  1.05483102e+00  1.95676579e+00\n",
            "  2.03394147e+00  1.01305282e+00  9.08869617e-01  1.53199881e+00\n",
            "  9.06086780e-01  1.02653579e+00  9.80482755e-01  2.01030115e+00\n",
            "  8.88231152e-01  1.46698647e+00  1.04390061e+00  1.05457844e+00\n",
            "  1.07308728e+00  1.24585377e-01  2.11342159e+00  1.94977900e+00\n",
            "  2.08702907e+00  8.99425306e-01  1.91309674e+00  2.05856575e+00\n",
            "  9.77785583e-01  1.89773878e+00  1.05802627e+00  1.18306809e+00\n",
            "  2.01684788e+00  2.05631269e+00  1.01136081e+00 -2.78109798e-02\n",
            "  1.03528315e+00  1.08675718e+00  1.01970440e+00  2.02608839e+00\n",
            "  9.37922342e-01  1.94396608e+00  9.80068229e-01  1.87607759e+00\n",
            " -3.29507504e-02  1.92190227e+00  7.53364146e-01  2.04783728e+00\n",
            "  1.25893201e-01  9.80598540e-01  9.79177857e-01  1.97834942e+00\n",
            "  9.58621705e-01  1.05470807e+00  1.05104621e+00  1.04351418e+00\n",
            "  9.34066486e-01  2.83145347e-02  2.05446683e+00 -2.03394630e-02\n",
            " -2.72424042e-02  1.05277448e+00 -2.25664539e-02  9.82180543e-01\n",
            "  1.05638854e+00  9.67462444e-01  7.00500071e-02  1.00751283e+00\n",
            "  1.00190382e+00 -1.75382722e-02  9.71727852e-02  1.00200681e+00\n",
            "  1.03068245e+00  9.98498090e-01  8.92668423e-01  1.05088780e+00\n",
            "  1.03971214e+00  1.51562345e-01  1.05337109e+00  2.14943629e+00\n",
            "  1.66572015e+00 -2.25595749e-02  8.51123469e-01  2.06226518e+00\n",
            "  1.00907416e+00  2.04708242e+00  9.98260741e-01  1.43762038e+00\n",
            "  6.67235930e-03  1.05545032e+00 -1.81653635e-02  9.32193435e-01\n",
            "  1.05208231e+00  1.03674463e+00  2.16419960e+00 -2.23113989e-02\n",
            "  1.73958647e+00  1.17504807e+00  9.79435131e-01  9.91722328e-01\n",
            "  1.04283875e+00  2.07700910e-01  9.79110228e-01  1.01578782e+00\n",
            "  9.81704299e-01  2.10040534e+00  2.03697720e+00 -2.29044003e-02\n",
            "  3.08719146e-01  1.05340175e+00  1.05592223e+00  2.04857494e+00\n",
            "  8.90856963e-01  1.92147241e+00  1.05325316e+00  1.08904242e+00\n",
            "  1.05809106e+00  9.78990647e-01  1.66836782e+00  1.91187643e+00\n",
            "  1.88942994e+00  9.78632152e-01  9.90480114e-01  1.89008963e+00\n",
            "  1.05421841e+00 -5.64131420e-02 -2.03098167e-02  1.10906477e-01\n",
            "  9.79248761e-01  9.84774125e-01  1.02795848e+00  1.05268310e+00\n",
            "  9.81026432e-01  1.00243698e+00  4.44022773e-01  7.48178475e-01\n",
            "  1.00585364e+00  2.05554804e+00  9.49176339e-01  1.01250067e+00\n",
            "  8.20659568e-02 -1.18202471e-02  1.05087434e+00  2.04794349e+00\n",
            "  2.12906455e+00  6.83677704e-02  9.21706569e-01  8.91483041e-01\n",
            "  1.10069823e+00  9.55651569e-01  1.87991473e+00  2.05648079e+00\n",
            "  1.93455279e+00 -8.95209206e-03  9.27214643e-01  1.92819148e+00\n",
            "  9.79913131e-01  1.85664051e+00  1.91948858e+00  2.05174975e+00\n",
            "  2.07455642e+00 -5.02116595e-02  9.80612486e-01  9.79240294e-01\n",
            "  3.39340823e-02  9.52700903e-01  1.34968516e+00  9.33098182e-02\n",
            "  2.15795424e+00  1.75071246e+00  2.61963648e-02 -4.49260962e-02\n",
            "  9.77073615e-01  9.88066589e-01  9.81120923e-01  9.13482779e-01\n",
            "  1.27545716e+00  1.82310855e+00  1.04157489e+00  1.43697530e-02\n",
            "  1.90991043e+00  1.04169991e+00  9.83761628e-01  1.05369940e+00\n",
            "  9.25307992e-01  1.13787966e-01  2.07309185e+00  1.05037592e+00\n",
            "  1.05787397e+00  1.14834555e+00  9.41379351e-01  1.04444754e+00\n",
            "  1.05558940e+00  9.80206759e-01  9.40121153e-01  2.17443750e+00\n",
            "  1.05482513e+00  1.05352270e+00  1.03564343e+00  2.14386635e+00\n",
            "  9.79077616e-01  2.05365218e+00  1.00773216e+00  2.14732890e+00\n",
            "  9.79995885e-01  1.05830770e+00  9.79926988e-01  2.10248401e+00\n",
            "  2.07047494e+00 -3.37149563e-02  9.64593340e-01  1.05385677e+00\n",
            "  1.05324432e+00  9.79156325e-01  1.05522128e+00  1.02979041e+00\n",
            "  1.92008331e+00  1.02461195e+00  1.86341108e+00  9.68178527e-01\n",
            "  9.66630782e-01  1.77816932e+00  1.00079533e+00  1.41682120e+00\n",
            "  2.05288393e+00  1.04499436e+00  1.71865950e+00  1.95087183e+00\n",
            "  1.04301347e+00  1.05753010e+00  2.08102411e+00 -2.87429395e-02\n",
            "  1.93149201e+00  9.79192795e-01  9.10686103e-01  1.93391664e+00\n",
            "  2.04732517e+00  1.10971342e+00  8.49839041e-01  9.80352158e-01\n",
            "  1.05812887e+00  1.05101700e+00  1.05371695e+00  1.48769012e+00\n",
            "  2.05780034e+00  1.00283672e+00  2.12200725e+00  1.11895522e+00\n",
            "  1.04703849e+00  1.86806368e+00  1.43160622e+00  9.59270241e-01\n",
            "  8.98141236e-01  9.15717966e-01  1.06193190e+00  2.04287983e+00\n",
            "  1.01718726e+00  2.10847286e+00  9.79747354e-01 -3.96338389e-03\n",
            "  2.57242534e-01  1.05496611e+00  5.21167381e-02  9.62098206e-01\n",
            "  9.57456020e-01  4.45990495e-01  8.94443114e-01  9.85540166e-01\n",
            "  1.43974160e+00 -3.65211765e-02  1.83702445e+00]\n"
          ]
        }
      ]
    },
    {
      "cell_type": "markdown",
      "source": [
        "\n",
        "```\n",
        "Evalue el mejor modelo de regresión para mostrar su error cuadrático medio\n",
        "```\n",
        "\n"
      ],
      "metadata": {
        "id": "3pZRFhkBAZwg"
      }
    },
    {
      "cell_type": "code",
      "source": [
        "# print('mse: {:.2f}'.format(mean_squared_error(<subconjunto de testeo en y>, <predicciones realizadas por el modelo>)))\n",
        "print('mse: {:.2f}'.format(mean_squared_error(Y_test, predictions)))\n",
        "# mse: 0.03"
      ],
      "metadata": {
        "colab": {
          "base_uri": "https://localhost:8080/"
        },
        "id": "CAY08IJwAZW3",
        "outputId": "482ec2d6-daf8-46b2-f3ff-34d8465f9189",
        "ExecuteTime": {
          "end_time": "2023-06-01T18:26:42.200815Z",
          "start_time": "2023-06-01T18:26:42.198832Z"
        }
      },
      "execution_count": 35,
      "outputs": [
        {
          "output_type": "stream",
          "name": "stdout",
          "text": [
            "mse: 0.02\n"
          ]
        }
      ]
    },
    {
      "cell_type": "markdown",
      "source": [
        "\n",
        "```\n",
        "Visualice la curva de entrenamiento\n",
        "```\n",
        "\n"
      ],
      "metadata": {
        "id": "-YnPEV1bDwIA"
      }
    },
    {
      "cell_type": "code",
      "source": [
        "# see how well was the training of the model\n",
        "# plt.plot(<mi modelo de regresión>.loss_curve_)\n",
        "\n",
        "# Show accuracy rate\n",
        "print('Accuracy rate: {:.2f}'.format(mlp_reg.score(X_test_scaled, Y_test)))\n",
        "\n",
        "plt.plot(mlp_reg.loss_curve_)\n",
        "plt.title(\"Loss Curve\", fontsize=14)\n",
        "plt.xlabel('Iterations')\n",
        "plt.ylabel('Cost')\n",
        "plt.show()\n"
      ],
      "metadata": {
        "colab": {
          "base_uri": "https://localhost:8080/",
          "height": 491
        },
        "id": "6H_rU7mND5AZ",
        "outputId": "e0cc9989-5b0d-4489-878c-baf4265cfa7b",
        "ExecuteTime": {
          "end_time": "2023-06-01T18:26:42.333526Z",
          "start_time": "2023-06-01T18:26:42.202777Z"
        }
      },
      "execution_count": 36,
      "outputs": [
        {
          "output_type": "stream",
          "name": "stdout",
          "text": [
            "Accuracy rate: 0.96\n"
          ]
        },
        {
          "output_type": "display_data",
          "data": {
            "text/plain": [
              "<Figure size 640x480 with 1 Axes>"
            ],
            "image/png": "[encoded data removed]"
          },
          "metadata": {}
        }
      ]
    },
    {
      "cell_type": "markdown",
      "source": [
        "```\n",
        "Visualice la diferencia entre los valores reales y los predichos por la red neuronal\n",
        "```\n",
        "\n"
      ],
      "metadata": {
        "id": "g1gGt5OvD_U9"
      }
    },
    {
      "cell_type": "code",
      "execution_count": 37,
      "outputs": [
        {
          "output_type": "display_data",
          "data": {
            "text/plain": [
              "<Figure size 640x480 with 1 Axes>"
            ],
            "image/png": "[encoded data removed]"
          },
          "metadata": {}
        }
      ],
      "source": [
        "# pd.DataFrame({'growntruth': <subconjunto de testeo en y>,'predictions': <predicciones>})\n",
        "pd.DataFrame({'growntruth': Y_test, 'predictions': predictions})\n",
        "# Plot this comparison as scatter plot\n",
        "plt.scatter(Y_test, predictions)\n",
        "plt.xlabel('Growntruth')\n",
        "plt.ylabel('Predictions')\n",
        "plt.title('Growntruth vs Predictions')\n",
        "plt.show()\n"
      ],
      "metadata": {
        "ExecuteTime": {
          "end_time": "2023-06-01T18:26:42.439141Z",
          "start_time": "2023-06-01T18:26:42.340602Z"
        },
        "id": "dySb-LbANuSc",
        "outputId": "29932d99-9926-41ba-f048-522d2c6c0cca",
        "colab": {
          "base_uri": "https://localhost:8080/",
          "height": 472
        }
      }
    },
    {
      "cell_type": "markdown",
      "source": [
        "\n",
        "```\n",
        "Con el valor del accuracy y las gráficas de entrenamiento y matriz de confusión explique brevemente el rendimiento del modelo de red neuronal entrenado\n",
        "```\n"
      ],
      "metadata": {
        "id": "ljw5usG7EM8-"
      }
    },
    {
      "cell_type": "markdown",
      "source": [
        "**We got an accuracy of 0.96 which is really good, and the loss curve shows that the model is learning. From the plot we can see that there is a correct estimation of data**"
      ],
      "metadata": {
        "id": "pBzu1z8zEn9V"
      }
    },
    {
      "cell_type": "markdown",
      "source": [
        "### Búsqueda de hiperparámetros a través de una matriz\n",
        "\n",
        "\n",
        "\n",
        "```\n",
        "Defina una matriz de búsqueda de hiperparámetros que contenga lo siguiente:\n",
        "\n",
        "*   Un modelo de red neuronal con el número de capaz y neuronas que considere lleve a mejorar el aprendizaje en la tarea de regresión\n",
        "*   El número de iteraciones que consideren sean pertinentes\n",
        "*   El optimizador de la familia de los métodos quasi-Newton\n",
        "*   La función de activación relu\n",
        "```\n",
        "\n"
      ],
      "metadata": {
        "id": "ycaFgoVyE5OX"
      }
    },
    {
      "cell_type": "code",
      "source": [
        "param_grid = {\n",
        "    'activation': ['relu'],  # Function of activation\n",
        "    'hidden_layer_sizes': [(64, 128, 64)],  # Number of neurons in the hidden layers\n",
        "    'max_iter': [100, 200, 300],  # Maximum number of iterations\n",
        "    'solver': ['lbfgs', 'bfgs', 'newton-cg']  # Quasi-Newton optimizer\n",
        "}"
      ],
      "metadata": {
        "id": "XOBw2UPUEMo2",
        "ExecuteTime": {
          "end_time": "2023-06-01T18:26:42.447144Z",
          "start_time": "2023-06-01T18:26:42.442306Z"
        }
      },
      "execution_count": 38,
      "outputs": []
    },
    {
      "cell_type": "markdown",
      "source": [
        "\n",
        "```\n",
        "Defina la búsqueda de la matriz sin validación cruzada\n",
        "```\n",
        "\n"
      ],
      "metadata": {
        "id": "mSskMXm7IGJA"
      }
    },
    {
      "cell_type": "code",
      "source": [
        "grid_search = GridSearchCV(mlp_reg, param_grid, n_jobs=-1)"
      ],
      "metadata": {
        "id": "sOtjIxvHIFfQ",
        "ExecuteTime": {
          "end_time": "2023-06-01T18:26:42.453312Z",
          "start_time": "2023-06-01T18:26:42.451266Z"
        }
      },
      "execution_count": 39,
      "outputs": []
    },
    {
      "cell_type": "markdown",
      "source": [
        "\n",
        "```\n",
        "Execute la búsqueda de los hiperparámetros y muestre el tiempo total de execución\n",
        "```\n",
        "\n",
        "**Importante:** tenga en mente que esta sección puede tardar varios minutos, de acuerdo a los modelos incluídos en la búsqueda"
      ],
      "metadata": {
        "id": "9lADtMRbIWL3"
      }
    },
    {
      "cell_type": "code",
      "source": [
        "tc_start = time.time()\n",
        "grid_search.fit(X_train_scaled, Y_train)\n",
        "tc_end = time.time()\n",
        "# print(tc_end-tc_start)\n",
        "print('Time elapsed on training: {:.2f} seconds'.format(tc_end - tc_start))\n",
        "# 13.170661687850952"
      ],
      "metadata": {
        "id": "jNYHSuRXIfiY",
        "is_executing": true,
        "ExecuteTime": {
          "start_time": "2023-06-01T18:26:42.465846Z"
        },
        "colab": {
          "base_uri": "https://localhost:8080/"
        },
        "outputId": "4071757c-ddcc-4f4c-8615-bc940b0aa78b"
      },
      "execution_count": 19,
      "outputs": [
        {
          "output_type": "stream",
          "name": "stderr",
          "text": [
            "/usr/local/lib/python3.10/dist-packages/sklearn/model_selection/_validation.py:378: FitFailedWarning: \n",
            "30 fits failed out of a total of 45.\n",
            "The score on these train-test partitions for these parameters will be set to nan.\n",
            "If these failures are not expected, you can try to debug them by setting error_score='raise'.\n",
            "\n",
            "Below are more details about the failures:\n",
            "--------------------------------------------------------------------------------\n",
            "10 fits failed with the following error:\n",
            "Traceback (most recent call last):\n",
            "  File \"/usr/local/lib/python3.10/dist-packages/sklearn/model_selection/_validation.py\", line 686, in _fit_and_score\n",
            "    estimator.fit(X_train, y_train, **fit_params)\n",
            "  File \"/usr/local/lib/python3.10/dist-packages/sklearn/neural_network/_multilayer_perceptron.py\", line 747, in fit\n",
            "    self._validate_params()\n",
            "  File \"/usr/local/lib/python3.10/dist-packages/sklearn/base.py\", line 600, in _validate_params\n",
            "    validate_parameter_constraints(\n",
            "  File \"/usr/local/lib/python3.10/dist-packages/sklearn/utils/_param_validation.py\", line 97, in validate_parameter_constraints\n",
            "    raise InvalidParameterError(\n",
            "sklearn.utils._param_validation.InvalidParameterError: The 'solver' parameter of MLPRegressor must be a str among {'sgd', 'adam', 'lbfgs'}. Got 'bfgs' instead.\n",
            "\n",
            "--------------------------------------------------------------------------------\n",
            "10 fits failed with the following error:\n",
            "Traceback (most recent call last):\n",
            "  File \"/usr/local/lib/python3.10/dist-packages/sklearn/model_selection/_validation.py\", line 686, in _fit_and_score\n",
            "    estimator.fit(X_train, y_train, **fit_params)\n",
            "  File \"/usr/local/lib/python3.10/dist-packages/sklearn/neural_network/_multilayer_perceptron.py\", line 747, in fit\n",
            "    self._validate_params()\n",
            "  File \"/usr/local/lib/python3.10/dist-packages/sklearn/base.py\", line 600, in _validate_params\n",
            "    validate_parameter_constraints(\n",
            "  File \"/usr/local/lib/python3.10/dist-packages/sklearn/utils/_param_validation.py\", line 97, in validate_parameter_constraints\n",
            "    raise InvalidParameterError(\n",
            "sklearn.utils._param_validation.InvalidParameterError: The 'solver' parameter of MLPRegressor must be a str among {'sgd', 'adam', 'lbfgs'}. Got 'newton-cg' instead.\n",
            "\n",
            "--------------------------------------------------------------------------------\n",
            "5 fits failed with the following error:\n",
            "Traceback (most recent call last):\n",
            "  File \"/usr/local/lib/python3.10/dist-packages/sklearn/model_selection/_validation.py\", line 686, in _fit_and_score\n",
            "    estimator.fit(X_train, y_train, **fit_params)\n",
            "  File \"/usr/local/lib/python3.10/dist-packages/sklearn/neural_network/_multilayer_perceptron.py\", line 747, in fit\n",
            "    self._validate_params()\n",
            "  File \"/usr/local/lib/python3.10/dist-packages/sklearn/base.py\", line 600, in _validate_params\n",
            "    validate_parameter_constraints(\n",
            "  File \"/usr/local/lib/python3.10/dist-packages/sklearn/utils/_param_validation.py\", line 97, in validate_parameter_constraints\n",
            "    raise InvalidParameterError(\n",
            "sklearn.utils._param_validation.InvalidParameterError: The 'solver' parameter of MLPRegressor must be a str among {'lbfgs', 'sgd', 'adam'}. Got 'bfgs' instead.\n",
            "\n",
            "--------------------------------------------------------------------------------\n",
            "5 fits failed with the following error:\n",
            "Traceback (most recent call last):\n",
            "  File \"/usr/local/lib/python3.10/dist-packages/sklearn/model_selection/_validation.py\", line 686, in _fit_and_score\n",
            "    estimator.fit(X_train, y_train, **fit_params)\n",
            "  File \"/usr/local/lib/python3.10/dist-packages/sklearn/neural_network/_multilayer_perceptron.py\", line 747, in fit\n",
            "    self._validate_params()\n",
            "  File \"/usr/local/lib/python3.10/dist-packages/sklearn/base.py\", line 600, in _validate_params\n",
            "    validate_parameter_constraints(\n",
            "  File \"/usr/local/lib/python3.10/dist-packages/sklearn/utils/_param_validation.py\", line 97, in validate_parameter_constraints\n",
            "    raise InvalidParameterError(\n",
            "sklearn.utils._param_validation.InvalidParameterError: The 'solver' parameter of MLPRegressor must be a str among {'lbfgs', 'sgd', 'adam'}. Got 'newton-cg' instead.\n",
            "\n",
            "  warnings.warn(some_fits_failed_message, FitFailedWarning)\n",
            "/usr/local/lib/python3.10/dist-packages/sklearn/model_selection/_search.py:952: UserWarning: One or more of the test scores are non-finite: [0.99508471        nan        nan 0.99847652        nan        nan\n",
            " 0.99915693        nan        nan]\n",
            "  warnings.warn(\n"
          ]
        },
        {
          "output_type": "stream",
          "name": "stdout",
          "text": [
            "Time elapsed on training: 220.47 seconds\n"
          ]
        },
        {
          "output_type": "stream",
          "name": "stderr",
          "text": [
            "/usr/local/lib/python3.10/dist-packages/sklearn/neural_network/_multilayer_perceptron.py:541: ConvergenceWarning: lbfgs failed to converge (status=1):\n",
            "STOP: TOTAL NO. of ITERATIONS REACHED LIMIT.\n",
            "\n",
            "Increase the number of iterations (max_iter) or scale the data as shown in:\n",
            "    https://scikit-learn.org/stable/modules/preprocessing.html\n",
            "  self.n_iter_ = _check_optimize_result(\"lbfgs\", opt_res, self.max_iter)\n"
          ]
        }
      ]
    },
    {
      "cell_type": "markdown",
      "source": [
        "\n",
        "```\n",
        "Muestre el 'mejor modelo' de la búsqueda de los hiperparámetros\n",
        "```\n",
        "\n"
      ],
      "metadata": {
        "id": "cFXyTuWqf9CW"
      }
    },
    {
      "cell_type": "code",
      "source": [
        "# print('The best hyper parameter values are:\\n{}'.format(<mi búsqueda de cuadrícula>.best_params_))\n",
        "print('The best hyper parameter values are:\\n{}'.format(grid_search.best_params_))\n",
        "# The best hyper parameter values are:\n",
        "# {'activation': 'tanh', 'hidden_layer_sizes': (8, 16, 8), 'max_iter': 200, 'solver': 'lbfgs'}"
      ],
      "metadata": {
        "id": "GM6XfvyQgL1m",
        "is_executing": true,
        "colab": {
          "base_uri": "https://localhost:8080/"
        },
        "outputId": "66b0a798-de9a-4db1-bd48-84d4b8322bda"
      },
      "execution_count": 20,
      "outputs": [
        {
          "metadata": {
            "tags": null
          },
          "name": "stdout",
          "output_type": "stream",
          "text": [
            "The best hyper parameter values are:\n",
            "{'activation': 'relu', 'hidden_layer_sizes': (64, 128, 64), 'max_iter': 300, 'solver': 'lbfgs'}\n"
          ]
        }
      ]
    },
    {
      "cell_type": "markdown",
      "source": [
        "\n",
        "```\n",
        "Obtenga y muestre las predicciones con el mejor modelo de la búsqueda de hiperparámetros\n",
        "```\n",
        "\n"
      ],
      "metadata": {
        "id": "WxBCnJ2ugMM1"
      }
    },
    {
      "cell_type": "code",
      "source": [
        "# <mi búsqueda de cuadrícula>.best_estimator_.predict()\n",
        "predictions = grid_search.best_estimator_.predict(X_test_scaled)\n",
        "# array([2.01497909, 0.10336705, 1.00173473, ..., 1.99163308, 0.00839881,\n",
        "# 0.987649  ])\n",
        "predictions"
      ],
      "metadata": {
        "id": "tu4lsfAigWEm",
        "is_executing": true,
        "colab": {
          "base_uri": "https://localhost:8080/"
        },
        "outputId": "ea8ee343-cd24-4d3b-a820-38039e61ab86"
      },
      "execution_count": 21,
      "outputs": [
        {
          "output_type": "execute_result",
          "data": {
            "text/plain": [
              "array([ 9.99306204e-01,  1.98165659e+00, -6.81607308e-03,  5.85142290e-03,\n",
              "        1.00982265e+00,  1.00263716e+00,  5.86446729e-03,  3.07079522e-04,\n",
              "        9.94957209e-01,  9.79198653e-01,  1.01051401e+00,  1.99683445e+00,\n",
              "        1.01783768e+00,  6.84252379e-03, -1.69221283e-02,  1.00272752e+00,\n",
              "        1.00013743e+00,  4.96993034e-03,  9.99085905e-01,  1.00134723e+00,\n",
              "        1.97597906e+00, -1.46333028e-02, -1.76530922e-03,  1.96299027e+00,\n",
              "        9.91615227e-01,  1.00639311e+00,  1.99617842e+00,  9.82948709e-01,\n",
              "        9.97936281e-01,  2.77543673e-03,  9.93860766e-01, -1.16829102e-02,\n",
              "        1.99132294e+00,  9.94692532e-01,  1.00778908e+00,  2.02948133e+00,\n",
              "        9.62135897e-01,  7.39301597e-03,  1.98464264e+00,  1.00370437e+00,\n",
              "        1.00127453e+00,  9.94148135e-01, -9.15460875e-03,  9.93933623e-01,\n",
              "        2.02002062e+00, -2.97952634e-03, -4.22136899e-03,  1.99216238e+00,\n",
              "        1.96417332e+00,  1.00688022e+00, -5.14640993e-03,  1.00295422e+00,\n",
              "        1.00567627e+00,  9.98494760e-01,  1.00221309e+00,  9.92607604e-01,\n",
              "        9.97861618e-01, -2.51065863e-02,  9.99885622e-01, -7.57747643e-04,\n",
              "        9.95579919e-01,  1.00936862e+00,  9.97104014e-01,  1.00168358e+00,\n",
              "        9.90113973e-01, -2.31581851e-03,  1.01537396e+00, -4.23002345e-03,\n",
              "       -1.02086370e-02,  1.98878134e+00,  1.00736298e+00,  9.95890800e-01,\n",
              "        9.90319533e-01,  1.00727100e+00,  1.01018257e+00,  9.88753242e-01,\n",
              "        1.99681268e+00,  1.96308657e-03,  8.36912564e-03,  1.00600451e+00,\n",
              "        3.06802112e-02,  8.58144508e-03, -3.47582425e-03,  9.98459091e-01,\n",
              "        1.98893939e+00,  9.95985929e-01,  5.22794004e-04,  1.00714186e+00,\n",
              "       -5.71364571e-03,  9.90869134e-01,  1.00568432e+00,  1.97192986e+00,\n",
              "       -1.35730112e-02,  1.02071522e+00,  9.96693626e-01,  6.06536321e-04,\n",
              "        1.99337774e+00,  9.97704704e-01,  9.86626070e-01,  4.11437720e-03,\n",
              "        1.00105115e+00,  9.97520155e-01, -6.08686584e-03,  1.99846489e+00,\n",
              "        9.88480225e-01,  9.99833962e-01,  2.00333097e+00,  9.91693031e-01,\n",
              "        1.00439604e+00, -6.98750046e-03,  9.60992392e-01,  9.61993695e-01,\n",
              "        1.98884009e+00,  1.01270913e+00,  1.00610965e+00,  1.97725167e+00,\n",
              "        1.97680086e+00,  1.99194594e+00,  9.65980757e-01,  1.02288724e+00,\n",
              "        9.97862722e-01,  9.93859986e-01,  1.99062550e+00,  1.00118576e+00,\n",
              "        9.97664390e-01,  1.01002637e+00,  9.97706036e-01,  1.01649830e+00,\n",
              "        1.99718604e+00, -7.23027427e-04,  9.90492356e-01,  1.48984379e-02,\n",
              "        9.72684221e-01,  1.99004310e+00,  9.83407374e-01,  1.97578661e+00,\n",
              "        9.99605191e-01, -4.30157866e-03,  1.00042762e+00,  9.97866870e-01,\n",
              "        8.72818352e-03,  1.00034133e+00,  9.97615749e-01,  1.00223540e+00,\n",
              "        9.71195010e-01,  2.02330322e+00,  1.02617965e+00,  1.96593491e+00,\n",
              "        2.02540469e+00,  9.80357949e-01, -9.26681607e-05,  1.99750612e+00,\n",
              "        9.89271172e-01, -4.93585757e-04,  1.00210315e+00,  2.09693708e+00,\n",
              "        9.99321796e-01,  1.00626141e+00,  9.82838684e-01,  1.97096711e+00,\n",
              "        1.00071582e+00,  9.86882810e-01,  9.93295861e-01,  1.94292503e+00,\n",
              "       -9.72894009e-03,  9.95274639e-01,  1.96029278e+00, -8.63476504e-04,\n",
              "        2.01434957e+00,  1.98718297e+00,  7.85320475e-03, -7.04386439e-03,\n",
              "        4.06190698e-03,  1.99736285e+00,  9.87396686e-01, -2.80655724e-04,\n",
              "        1.99109573e+00,  2.07840906e+00,  1.00585937e+00,  9.83993416e-01,\n",
              "       -1.11232141e-02,  9.91497757e-01,  1.87579867e+00,  2.01024203e+00,\n",
              "        4.26771048e-04,  5.16230358e-04,  2.00822013e+00,  9.95146395e-01,\n",
              "        1.00545355e+00,  1.00386055e+00,  9.86795528e-01,  9.99549769e-01,\n",
              "        9.99302508e-01,  9.96680361e-01,  1.00313931e+00,  2.02931814e+00,\n",
              "        9.97170272e-01,  1.98438733e+00,  9.97625573e-01,  1.00033756e+00,\n",
              "        1.00580043e+00,  1.00677223e+00,  1.00370928e+00,  2.00939478e+00,\n",
              "        9.86316411e-01, -1.69611947e-03,  8.63325201e-03,  1.00081804e+00,\n",
              "       -1.58578027e-03,  2.03510055e+00,  1.95692010e+00,  1.00272769e+00,\n",
              "        2.00086621e+00,  9.93363415e-01, -5.77140830e-03,  6.99706973e-03,\n",
              "        1.00175523e+00,  9.98236629e-01, -2.93205960e-03, -2.93965755e-04,\n",
              "        1.00123594e+00,  1.00786587e+00,  2.00328219e+00,  1.01096738e+00,\n",
              "        1.98645678e+00,  2.00485854e+00,  1.00063479e+00,  9.95140845e-01,\n",
              "        1.00514155e+00,  1.00175083e+00,  9.92475630e-01,  1.00424000e+00,\n",
              "        1.00964204e+00,  1.99212844e+00,  8.77922527e-05,  9.94318203e-01,\n",
              "        2.03791651e+00,  2.03207787e+00,  1.98219378e+00,  1.98764716e+00,\n",
              "        9.86304401e-01,  9.88774904e-01,  1.00309899e+00,  1.98217591e+00,\n",
              "        2.01397967e+00,  9.86860485e-01,  9.99381778e-01,  1.91287540e+00,\n",
              "        1.00425154e+00,  9.95629870e-01,  1.00402749e+00,  1.96904160e+00,\n",
              "        1.00197708e+00,  1.98947414e+00,  9.95419679e-01,  1.00451938e+00,\n",
              "        9.85814782e-01, -5.29672494e-03,  2.01555024e+00,  2.02720646e+00,\n",
              "        2.03249726e+00,  1.00474337e+00,  1.97151319e+00,  2.00339512e+00,\n",
              "        1.00132407e+00,  1.99987143e+00,  9.88898412e-01,  1.00351011e+00,\n",
              "        2.02171084e+00,  2.00442243e+00,  1.00533774e+00,  4.37026634e-03,\n",
              "        9.99794570e-01,  1.01157481e+00,  9.99986034e-01,  2.00086925e+00,\n",
              "        1.00808102e+00,  2.03305127e+00,  1.00272458e+00,  1.99477872e+00,\n",
              "       -1.35155989e-03,  2.04155230e+00,  9.82088492e-01,  1.99861724e+00,\n",
              "        9.63501338e-01,  9.88637860e-01,  9.94694254e-01,  1.98285760e+00,\n",
              "        9.92863271e-01,  1.00675300e+00,  9.95473911e-01,  1.00050745e+00,\n",
              "        1.00152021e+00,  3.18278056e-03,  2.00238583e+00, -4.37181301e-03,\n",
              "        3.99714103e-03,  1.00789957e+00,  1.02823078e-02,  9.97293747e-01,\n",
              "        1.00164709e+00,  9.86077866e-01, -1.10918956e-02,  9.92652352e-01,\n",
              "        9.70361036e-01, -2.67164203e-03,  1.23703152e-02,  1.02364670e+00,\n",
              "        9.97372478e-01,  9.98510883e-01,  1.00127458e+00,  1.01085701e+00,\n",
              "        9.93038246e-01,  4.80413759e-03,  1.00922254e+00,  2.04061604e+00,\n",
              "        1.97576312e+00,  1.03520260e-02,  9.96019488e-01,  1.98250441e+00,\n",
              "        1.01743822e+00,  1.98574497e+00,  1.00076856e+00,  1.08644468e+00,\n",
              "       -2.39770847e-03,  1.00080076e+00,  1.06311920e-02,  9.94160370e-01,\n",
              "        1.01299657e+00,  9.73664187e-01,  1.95719481e+00,  9.39499410e-03,\n",
              "        2.00269082e+00,  1.04052482e+00,  9.84778077e-01,  9.96483031e-01,\n",
              "        9.97882429e-01, -1.06551879e-02,  9.99554631e-01,  9.91565271e-01,\n",
              "        9.98575045e-01,  1.98912823e+00,  1.99249407e+00,  2.23925176e-02,\n",
              "       -5.02569480e-03,  1.00602776e+00,  9.94240754e-01,  1.98855849e+00,\n",
              "        1.00806911e+00,  2.02319385e+00,  9.94219948e-01,  1.00766603e+00,\n",
              "        9.88293572e-01,  9.96794544e-01,  1.98926005e+00,  1.97710479e+00,\n",
              "        1.99628296e+00,  1.01311214e+00,  9.99100132e-01,  1.98327500e+00,\n",
              "        1.00934013e+00,  5.59627302e-03, -2.27472473e-03, -3.25105520e-03,\n",
              "        9.96652319e-01,  1.02327746e+00,  9.97817594e-01,  1.00751684e+00,\n",
              "        9.86304710e-01,  1.01252511e+00,  1.01176082e+00,  9.99413544e-01,\n",
              "        1.00002615e+00,  1.98816069e+00,  1.00055263e+00,  9.94218878e-01,\n",
              "       -2.09536750e-03,  7.67988623e-03,  1.00500049e+00,  2.00491014e+00,\n",
              "        1.97497502e+00, -5.39934328e-03,  1.00741582e+00,  1.00550085e+00,\n",
              "        9.90641445e-01,  9.95294110e-01,  1.96991431e+00,  2.00882768e+00,\n",
              "        1.98317995e+00,  8.62304036e-04,  9.96600008e-01,  1.98669139e+00,\n",
              "        1.00342284e+00,  2.01635015e+00,  1.98959700e+00,  2.00119557e+00,\n",
              "        2.00482776e+00,  4.86894696e-03,  9.90451606e-01,  9.98524801e-01,\n",
              "       -2.90515294e-03,  9.94879955e-01,  1.94304128e+00, -9.26076244e-05,\n",
              "        2.04103053e+00,  1.99761395e+00,  6.08645138e-03,  4.07836417e-03,\n",
              "        9.91343228e-01,  9.91006725e-01,  9.96738706e-01,  1.00694785e+00,\n",
              "        1.01482333e+00,  2.00834262e+00,  9.84689446e-01, -1.70052795e-03,\n",
              "        2.00225501e+00,  9.89425371e-01,  9.99106127e-01,  1.00539584e+00,\n",
              "        1.00565255e+00, -1.40421003e-03,  1.98320443e+00,  1.00176361e+00,\n",
              "        9.97282752e-01,  9.95342530e-01,  9.91636273e-01,  9.95314431e-01,\n",
              "        9.95542801e-01,  9.83559146e-01,  9.98902307e-01,  2.01997598e+00,\n",
              "        9.98339797e-01,  9.98482185e-01,  1.00310864e+00,  1.97755880e+00,\n",
              "        9.99867531e-01,  1.95472910e+00,  9.90470523e-01,  2.02681302e+00,\n",
              "        1.00501700e+00,  9.96926519e-01,  9.95456343e-01,  1.97790448e+00,\n",
              "        1.95699646e+00,  7.75067995e-05,  9.95409661e-01,  9.98348068e-01,\n",
              "        1.01485458e+00,  9.92973689e-01,  1.00367970e+00,  9.94347987e-01,\n",
              "        1.98016964e+00,  9.91570074e-01,  1.96310563e+00,  9.97872065e-01,\n",
              "        1.00182438e+00,  2.00811057e+00,  9.93278838e-01,  1.02451846e+00,\n",
              "        1.96916580e+00,  9.93218633e-01,  1.99296686e+00,  2.05114833e+00,\n",
              "        1.00447477e+00,  9.87472684e-01,  2.00317877e+00,  7.57309093e-03,\n",
              "        1.99723078e+00,  9.97840115e-01,  9.80539425e-01,  2.01957966e+00,\n",
              "        1.99074049e+00,  1.00919004e+00,  1.00220047e+00,  1.00058638e+00,\n",
              "        9.97770305e-01,  1.01863051e+00,  1.00533545e+00,  2.03558329e+00,\n",
              "        2.04955848e+00,  9.99863493e-01,  2.00532157e+00,  9.89381497e-01,\n",
              "        9.96401628e-01,  1.98818580e+00,  1.03242728e+00,  9.95537465e-01,\n",
              "        9.99651927e-01,  1.00378959e+00,  1.00034730e+00,  1.98772304e+00,\n",
              "        1.00012247e+00,  1.98079350e+00,  9.87628995e-01,  4.18421334e-03,\n",
              "       -1.03064751e-03,  1.00141878e+00, -4.08720695e-03,  9.94534326e-01,\n",
              "        9.99318994e-01,  1.17369051e-02,  9.94558232e-01,  9.96917611e-01,\n",
              "        1.04020100e+00,  9.13203637e-03,  2.01589210e+00])"
            ]
          },
          "metadata": {},
          "execution_count": 21
        }
      ]
    },
    {
      "cell_type": "markdown",
      "source": [
        "\n",
        "```\n",
        "Evalue el mejor modelo de regresión resultante de la búsqueda de hiperparámetros para mostrar su error cuadrático medio\n",
        "```\n",
        "\n"
      ],
      "metadata": {
        "id": "8mTIkri9ig8H"
      }
    },
    {
      "cell_type": "code",
      "source": [
        "# print('mse: {:.2f}'.format(mean_squared_error()))\n",
        "print('mse: {:.2f}'.format(mean_squared_error(Y_test, predictions)))\n",
        "# mse: 0.00\n",
        "\n",
        "# Show new loss curve + accuracy\n",
        "print('Accuracy rate: {:.2f}'.format(grid_search.best_estimator_.score(X_test_scaled, Y_test)))\n",
        "plt.plot(mlp_reg.loss_curve_)\n",
        "plt.title(\"Loss Curve\", fontsize=14)\n",
        "plt.xlabel('Iterations')\n",
        "plt.ylabel('Cost')\n",
        "plt.show()\n"
      ],
      "metadata": {
        "id": "h0xsDSATizyH",
        "is_executing": true,
        "colab": {
          "base_uri": "https://localhost:8080/",
          "height": 509
        },
        "outputId": "c0011b3a-e0eb-4b29-c5d6-21d3292169ed"
      },
      "execution_count": 22,
      "outputs": [
        {
          "output_type": "stream",
          "name": "stdout",
          "text": [
            "mse: 0.00\n",
            "Accuracy rate: 1.00\n"
          ]
        },
        {
          "output_type": "display_data",
          "data": {
            "text/plain": [
              "<Figure size 640x480 with 1 Axes>"
            ],
            "image/png": "[encoded data removed]"
          },
          "metadata": {}
        }
      ]
    },
    {
      "cell_type": "markdown",
      "source": [
        "```\n",
        "Visualice la diferencia entre los valores reales y los predichos por la red neuronal\n",
        "```\n",
        "\n"
      ],
      "metadata": {
        "id": "3ZN_zG8xi-eh"
      }
    },
    {
      "cell_type": "code",
      "source": [
        "# pd.DataFrame({'growntruth': <subconjunto de testeo en y>,'predictions': <predicciones>})\n",
        "pd.DataFrame({'growntruth': Y_test, 'predictions': predictions})\n",
        "# Plot this comparison as scatter plot\n",
        "plt.scatter(Y_test, predictions)\n",
        "plt.xlabel('Growntruth')\n",
        "plt.ylabel('Predictions')\n",
        "plt.title('Growntruth vs Predictions')\n",
        "plt.show()"
      ],
      "metadata": {
        "id": "H93spAu3j3ve",
        "is_executing": true,
        "colab": {
          "base_uri": "https://localhost:8080/",
          "height": 472
        },
        "outputId": "332f4baf-3ee1-454e-e4ac-64e8ca8b1dec"
      },
      "execution_count": 23,
      "outputs": [
        {
          "output_type": "display_data",
          "data": {
            "text/plain": [
              "<Figure size 640x480 with 1 Axes>"
            ],
            "image/png": "[encoded data removed]"
          },
          "metadata": {}
        }
      ]
    },
    {
      "cell_type": "markdown",
      "source": [
        "## Conclusiones\n",
        "\n",
        "```\n",
        "De acuerdo a los resultados de las métricas de evaluación y a las gráficas de matriz de confusión, mencione qué modelo de red neuronal se desempeñó mejor y por qué considera que fue así\n",
        "```\n",
        "\n"
      ],
      "metadata": {
        "id": "W6UKBXOzk-ou"
      }
    },
    {
      "cell_type": "markdown",
      "source": [
        "**With these hypertuned parameters, a rate of 1 was achieved, which says that our model was overtrained with these parameters found. **\n",
        "\n"
      ],
      "metadata": {
        "id": "-OxizFH-leWm"
      }
    }
  ]
}